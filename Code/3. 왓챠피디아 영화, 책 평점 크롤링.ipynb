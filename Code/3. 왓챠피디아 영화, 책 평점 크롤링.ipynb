{
  "cells": [
    {
      "cell_type": "code",
      "execution_count": null,
      "id": "0f2530e3",
      "metadata": {
        "id": "0f2530e3",
        "outputId": "6bc0403f-1bf7-44f6-c0d5-c24a8c331457"
      },
      "outputs": [
        {
          "name": "stdout",
          "output_type": "stream",
          "text": [
            "Requirement already satisfied: selenium in c:\\users\\user\\anaconda3\\lib\\site-packages (4.10.0)\n",
            "Requirement already satisfied: trio~=0.17 in c:\\users\\user\\anaconda3\\lib\\site-packages (from selenium) (0.22.1)\n",
            "Requirement already satisfied: urllib3[socks]<3,>=1.26 in c:\\users\\user\\anaconda3\\lib\\site-packages (from selenium) (1.26.9)\n",
            "Requirement already satisfied: certifi>=2021.10.8 in c:\\users\\user\\anaconda3\\lib\\site-packages (from selenium) (2021.10.8)\n",
            "Requirement already satisfied: trio-websocket~=0.9 in c:\\users\\user\\anaconda3\\lib\\site-packages (from selenium) (0.10.3)\n",
            "Requirement already satisfied: attrs>=20.1.0 in c:\\users\\user\\anaconda3\\lib\\site-packages (from trio~=0.17->selenium) (21.4.0)\n",
            "Requirement already satisfied: cffi>=1.14 in c:\\users\\user\\anaconda3\\lib\\site-packages (from trio~=0.17->selenium) (1.15.0)\n",
            "Requirement already satisfied: sniffio in c:\\users\\user\\anaconda3\\lib\\site-packages (from trio~=0.17->selenium) (1.2.0)\n",
            "Requirement already satisfied: idna in c:\\users\\user\\anaconda3\\lib\\site-packages (from trio~=0.17->selenium) (3.3)\n",
            "Requirement already satisfied: outcome in c:\\users\\user\\anaconda3\\lib\\site-packages (from trio~=0.17->selenium) (1.2.0)\n",
            "Requirement already satisfied: sortedcontainers in c:\\users\\user\\anaconda3\\lib\\site-packages (from trio~=0.17->selenium) (2.4.0)\n",
            "Requirement already satisfied: exceptiongroup>=1.0.0rc9 in c:\\users\\user\\anaconda3\\lib\\site-packages (from trio~=0.17->selenium) (1.1.1)\n",
            "Requirement already satisfied: pycparser in c:\\users\\user\\anaconda3\\lib\\site-packages (from cffi>=1.14->trio~=0.17->selenium) (2.21)\n",
            "Requirement already satisfied: wsproto>=0.14 in c:\\users\\user\\anaconda3\\lib\\site-packages (from trio-websocket~=0.9->selenium) (1.2.0)\n",
            "Requirement already satisfied: PySocks!=1.5.7,<2.0,>=1.5.6 in c:\\users\\user\\anaconda3\\lib\\site-packages (from urllib3[socks]<3,>=1.26->selenium) (1.7.1)\n",
            "Requirement already satisfied: h11<1,>=0.9.0 in c:\\users\\user\\anaconda3\\lib\\site-packages (from wsproto>=0.14->trio-websocket~=0.9->selenium) (0.14.0)\n"
          ]
        }
      ],
      "source": [
        "!pip install selenium"
      ]
    },
    {
      "cell_type": "code",
      "execution_count": null,
      "id": "599d4171",
      "metadata": {
        "id": "599d4171"
      },
      "outputs": [],
      "source": [
        "from bs4 import BeautifulSoup\n",
        "import time\n",
        "from tqdm import tqdm\n",
        "\n",
        "from selenium import webdriver\n",
        "from selenium.webdriver.chrome.service import Service\n",
        "from selenium.webdriver.common.keys import Keys\n",
        "\n",
        "import pandas as pd"
      ]
    },
    {
      "cell_type": "code",
      "execution_count": null,
      "id": "8a73a953",
      "metadata": {
        "id": "8a73a953"
      },
      "outputs": [],
      "source": [
        "# 본인의 경로 설정해서 붙여두기\n",
        "s = Service(\"C:/Users/USER/Documents/chromedriver/chromedriver.exe\")\n",
        "driver = webdriver.Chrome(service=s)\n",
        "time.sleep(2)\n",
        "\n",
        "# 윈도우 크기 조절\n",
        "driver.maximize_window()"
      ]
    },
    {
      "cell_type": "code",
      "execution_count": null,
      "id": "77a9808b",
      "metadata": {
        "id": "77a9808b"
      },
      "outputs": [],
      "source": [
        "# 왓챠피디아 링크 접속\n",
        "driver.get('https://pedia.watcha.com/ko-KR')"
      ]
    },
    {
      "cell_type": "markdown",
      "id": "e93ca7c8",
      "metadata": {
        "id": "e93ca7c8"
      },
      "source": [
        "## 영화 정보 크롤링"
      ]
    },
    {
      "cell_type": "code",
      "execution_count": null,
      "id": "7375b180",
      "metadata": {
        "id": "7375b180"
      },
      "outputs": [],
      "source": [
        "movie = pd.read_excel('역대 한국 박스오피스 흥행작_장르, 키워드, 감독 포함.xlsx')\n",
        "movie['개봉일'] = movie['개봉일'].map(lambda x: str(x)[:4])\n",
        "movie_title = movie[['영화명','개봉일','감독']].values"
      ]
    },
    {
      "cell_type": "code",
      "execution_count": null,
      "id": "870a1b2c",
      "metadata": {
        "id": "870a1b2c"
      },
      "outputs": [],
      "source": [
        "# 크롤링 맞춰서 제목,감독,연도 수정\n",
        "movie_title[7][1] = '2014'\n",
        "movie_title[27][1] = '2013'\n",
        "movie_title[62][2] = '조스 웨던'\n",
        "movie_title[89][2] = '애너 보든'\n",
        "movie_title[103][2] = '스콧 데릭슨'\n",
        "movie_title[112][2] = '토드 필립스'\n",
        "movie_title[123][2] = '피트 닥터'\n",
        "movie_title[139][2] = '바이론 하워드'\n",
        "movie_title[141][1] = '2012'\n",
        "movie_title[165][0] = '인디아나 존스: 크리스탈 해골의 왕국'\n",
        "movie_title[184][2] = '루벤 플레이셔'\n",
        "movie_title[187][2] = '볼프강 페터젠'\n",
        "movie_title[227][0] = '다이하드4'\n",
        "movie_title[206][2] = '데미언 셔젤'\n",
        "movie_title[207][1] = '2015'\n",
        "movie_title[212][2] = '리 언크리치'\n",
        "movie_title[280][2] = '케이트 숏랜드'\n",
        "movie_title[281][2] = '아니쉬 채겐티'\n",
        "movie_title[303][2] = '크리스 윌리엄스'\n",
        "movie_title[319][0] = '지아이조 - 전쟁의 서막'\n",
        "movie_title[320][2] = '루이 르테리에'\n",
        "movie_title[323][1] = '2016'\n",
        "movie_title[330][2] = '크리스 샌더스'\n",
        "movie_title[357][2] = '톰 맥그라스'\n",
        "movie_title[369][2] = '피에르 모렐'\n",
        "movie_title[408][2] = '커스틴 쉐리단'\n",
        "movie_title[410][2] = '볼프강 페터젠'\n",
        "movie_title[426][2] = '패티 젠킨스'\n",
        "movie_title[439][2] = '데이비드 슬레이드'\n",
        "movie_title[445][2] = '자움 콜렛-세라'\n",
        "movie_title[458][2] = '피트 닥터'\n",
        "movie_title[460][2] = '대런 애로노프스키'\n",
        "movie_title[461][0] = '캐리비안의 해적 - 블랙 펄의 저주'\n",
        "movie_title[490][2] = '데이비드 에이어'\n",
        "movie_title[494][2] = '리처드 커티스'"
      ]
    },
    {
      "cell_type": "code",
      "execution_count": null,
      "id": "9e9a6b35",
      "metadata": {
        "id": "9e9a6b35",
        "outputId": "5965aa8f-1348-4656-d288-de73d905d99d"
      },
      "outputs": [
        {
          "name": "stderr",
          "output_type": "stream",
          "text": [
            "100%|████████████████████████████████████████████████████████████████████████████████████| 7/7 [00:42<00:00,  6.05s/it]\n"
          ]
        },
        {
          "data": {
            "text/html": [
              "<div>\n",
              "<style scoped>\n",
              "    .dataframe tbody tr th:only-of-type {\n",
              "        vertical-align: middle;\n",
              "    }\n",
              "\n",
              "    .dataframe tbody tr th {\n",
              "        vertical-align: top;\n",
              "    }\n",
              "\n",
              "    .dataframe thead th {\n",
              "        text-align: right;\n",
              "    }\n",
              "</style>\n",
              "<table border=\"1\" class=\"dataframe\">\n",
              "  <thead>\n",
              "    <tr style=\"text-align: right;\">\n",
              "      <th></th>\n",
              "      <th>영화명</th>\n",
              "      <th>감독</th>\n",
              "      <th>url</th>\n",
              "    </tr>\n",
              "  </thead>\n",
              "  <tbody>\n",
              "    <tr>\n",
              "      <th>0</th>\n",
              "      <td>수어사이드 스쿼드</td>\n",
              "      <td>데이비드 에이어</td>\n",
              "      <td>/ko-KR/contents/mWvkyor</td>\n",
              "    </tr>\n",
              "    <tr>\n",
              "      <th>1</th>\n",
              "      <td>헤어질 결심</td>\n",
              "      <td>박찬욱</td>\n",
              "      <td>/ko-KR/contents/m5DP0eR</td>\n",
              "    </tr>\n",
              "    <tr>\n",
              "      <th>2</th>\n",
              "      <td>오늘의 연애</td>\n",
              "      <td>박진표</td>\n",
              "      <td>/ko-KR/contents/mOkXVQd</td>\n",
              "    </tr>\n",
              "    <tr>\n",
              "      <th>3</th>\n",
              "      <td>글러브</td>\n",
              "      <td>강우석</td>\n",
              "      <td>/ko-KR/contents/mZ5e9R5</td>\n",
              "    </tr>\n",
              "    <tr>\n",
              "      <th>4</th>\n",
              "      <td>러브 액츄얼리</td>\n",
              "      <td>리처드 커티스</td>\n",
              "      <td>/ko-KR/contents/mBOkbkW</td>\n",
              "    </tr>\n",
              "    <tr>\n",
              "      <th>5</th>\n",
              "      <td>라디오 스타</td>\n",
              "      <td>이준익</td>\n",
              "      <td>/ko-KR/contents/mYdE0OX</td>\n",
              "    </tr>\n",
              "    <tr>\n",
              "      <th>6</th>\n",
              "      <td>퍼시잭슨과 번개 도둑</td>\n",
              "      <td>크리스 콜럼버스</td>\n",
              "      <td>/ko-KR/contents/mWJy3J5</td>\n",
              "    </tr>\n",
              "  </tbody>\n",
              "</table>\n",
              "</div>"
            ],
            "text/plain": [
              "           영화명        감독                      url\n",
              "0    수어사이드 스쿼드  데이비드 에이어  /ko-KR/contents/mWvkyor\n",
              "1       헤어질 결심       박찬욱  /ko-KR/contents/m5DP0eR\n",
              "2       오늘의 연애       박진표  /ko-KR/contents/mOkXVQd\n",
              "3          글러브       강우석  /ko-KR/contents/mZ5e9R5\n",
              "4      러브 액츄얼리   리처드 커티스  /ko-KR/contents/mBOkbkW\n",
              "5       라디오 스타       이준익  /ko-KR/contents/mYdE0OX\n",
              "6  퍼시잭슨과 번개 도둑  크리스 콜럼버스  /ko-KR/contents/mWJy3J5"
            ]
          },
          "execution_count": 832,
          "metadata": {},
          "output_type": "execute_result"
        }
      ],
      "source": [
        "## 영화 url 뽑아오기\n",
        "\n",
        "movie_url = pd.DataFrame()\n",
        "titles = []\n",
        "dirs = []\n",
        "urls = []\n",
        "\n",
        "for movie in tqdm(movie_title[490:]):\n",
        "    if movie[0] == '스파이':\n",
        "        continue\n",
        "    if movie[0] == '블라인드':\n",
        "        continue\n",
        "    movie = list(movie)\n",
        "    driver.get('https://pedia.watcha.com/ko-KR') # 왓챠피디아 링크 접속\n",
        "    time.sleep(2)\n",
        "\n",
        "    # 검색창에 입력값 보내기\n",
        "    search_xpath = '/html/body/div/div/div[1]/header[1]/nav/div/div/ul/li[6]/div/div/form/label/input'\n",
        "    search = driver.find_element('xpath', search_xpath)\n",
        "    search.send_keys(movie[0])\n",
        "    search.send_keys(Keys.ENTER)\n",
        "    time.sleep(1.5)\n",
        "\n",
        "    # 영화 더보기로 들어가기\n",
        "    click_plus_xpath = '/html/body/div/div/div[1]/section/section/div[3]/div[1]/section/section[2]/div[1]/div/header/div/div/a'\n",
        "    click_plus = driver.find_element('xpath', click_plus_xpath)\n",
        "    click_plus.click()\n",
        "    time.sleep(1.5)\n",
        "\n",
        "    # 소스코드 BeautifulSoup에 입력하기\n",
        "    html = driver.page_source\n",
        "    soup = BeautifulSoup(html, 'lxml')\n",
        "\n",
        "    # 감독, 연도랑 일치하는 영화\n",
        "    movie_list = soup.find_all('li', {'class':'css-ix1flm'})\n",
        "    if len(movie_list) == 1:\n",
        "        url = movie_list[0].find('a', {'class':'css-1aaqvgs-InnerPartOfListWithImage'}).get('href')\n",
        "        title1 = movie_list[0].find('div', {'class':'css-x62r3q'}).text\n",
        "        dir1 = movie_list[0].find('div', {'class':'css-1b6e4cd'}).text\n",
        "    else:\n",
        "        director = list(map(lambda x: x.find('div', {'class':'css-1b6e4cd'}), movie_list))\n",
        "        director = [x.text if x != None else 0 for x in director]\n",
        "        dir_idx = [i for i,j in enumerate(director) if j == movie[2]]\n",
        "\n",
        "        if len(dir_idx) == 1:\n",
        "            dir_idx = dir_idx[0]\n",
        "            url = movie_list[dir_idx].find('a', {'class':'css-1aaqvgs-InnerPartOfListWithImage'}).get('href')\n",
        "            title1 = movie_list[dir_idx].find('div', {'class':'css-x62r3q'}).text\n",
        "            dir1 = movie_list[dir_idx].find('div', {'class':'css-1b6e4cd'}).text\n",
        "        else:\n",
        "            year = list(map(lambda x: x.find('div', {'class':'css-h25two'}), movie_list))\n",
        "            year = [x.text.split('・')[0].replace(' ','') if x != None else 0 for x in year]\n",
        "            idx = [i for i,j in enumerate(zip(year, director)) if list(j) == movie[1:]][0]\n",
        "            url = movie_list[idx].find('a', {'class':'css-1aaqvgs-InnerPartOfListWithImage'}).get('href')\n",
        "            title1 = movie_list[idx].find('div', {'class':'css-x62r3q'}).text\n",
        "            dir1 = movie_list[idx].find('div', {'class':'css-1b6e4cd'}).text\n",
        "\n",
        "    urls.append(url)\n",
        "    titles.append(title1)\n",
        "    dirs.append(dir1)\n",
        "\n",
        "movie_url['영화명'] = titles\n",
        "movie_url['감독'] = dirs\n",
        "movie_url['url'] = urls\n",
        "movie_url"
      ]
    },
    {
      "cell_type": "code",
      "execution_count": null,
      "id": "b7db4154",
      "metadata": {
        "id": "b7db4154"
      },
      "outputs": [],
      "source": [
        "# movie_urls = pd.DataFrame()\n",
        "movie_urls = pd.concat([movie_urls, movie_url])"
      ]
    },
    {
      "cell_type": "code",
      "execution_count": null,
      "id": "4ad98efe",
      "metadata": {
        "id": "4ad98efe",
        "outputId": "3f2bcb58-d5ec-4d3a-c563-0100d93f2cff"
      },
      "outputs": [
        {
          "data": {
            "text/html": [
              "<div>\n",
              "<style scoped>\n",
              "    .dataframe tbody tr th:only-of-type {\n",
              "        vertical-align: middle;\n",
              "    }\n",
              "\n",
              "    .dataframe tbody tr th {\n",
              "        vertical-align: top;\n",
              "    }\n",
              "\n",
              "    .dataframe thead th {\n",
              "        text-align: right;\n",
              "    }\n",
              "</style>\n",
              "<table border=\"1\" class=\"dataframe\">\n",
              "  <thead>\n",
              "    <tr style=\"text-align: right;\">\n",
              "      <th></th>\n",
              "      <th>영화명</th>\n",
              "      <th>감독</th>\n",
              "      <th>url</th>\n",
              "    </tr>\n",
              "  </thead>\n",
              "  <tbody>\n",
              "    <tr>\n",
              "      <th>0</th>\n",
              "      <td>명량</td>\n",
              "      <td>김한민</td>\n",
              "      <td>/ko-KR/contents/mWzM9D5</td>\n",
              "    </tr>\n",
              "    <tr>\n",
              "      <th>1</th>\n",
              "      <td>극한직업</td>\n",
              "      <td>이병헌</td>\n",
              "      <td>/ko-KR/contents/mdMBlkR</td>\n",
              "    </tr>\n",
              "    <tr>\n",
              "      <th>2</th>\n",
              "      <td>신과함께-죄와 벌</td>\n",
              "      <td>김용화</td>\n",
              "      <td>/ko-KR/contents/mWw8zEO</td>\n",
              "    </tr>\n",
              "    <tr>\n",
              "      <th>3</th>\n",
              "      <td>국제시장</td>\n",
              "      <td>윤제균</td>\n",
              "      <td>/ko-KR/contents/mdReBLO</td>\n",
              "    </tr>\n",
              "    <tr>\n",
              "      <th>4</th>\n",
              "      <td>어벤져스: 엔드게임</td>\n",
              "      <td>조 루소</td>\n",
              "      <td>/ko-KR/contents/mdBzNnP</td>\n",
              "    </tr>\n",
              "    <tr>\n",
              "      <th>...</th>\n",
              "      <td>...</td>\n",
              "      <td>...</td>\n",
              "      <td>...</td>\n",
              "    </tr>\n",
              "    <tr>\n",
              "      <th>489</th>\n",
              "      <td>오늘의 연애</td>\n",
              "      <td>박진표</td>\n",
              "      <td>/ko-KR/contents/mOkXVQd</td>\n",
              "    </tr>\n",
              "    <tr>\n",
              "      <th>490</th>\n",
              "      <td>글러브</td>\n",
              "      <td>강우석</td>\n",
              "      <td>/ko-KR/contents/mZ5e9R5</td>\n",
              "    </tr>\n",
              "    <tr>\n",
              "      <th>491</th>\n",
              "      <td>러브 액츄얼리</td>\n",
              "      <td>리처드 커티스</td>\n",
              "      <td>/ko-KR/contents/mBOkbkW</td>\n",
              "    </tr>\n",
              "    <tr>\n",
              "      <th>492</th>\n",
              "      <td>라디오 스타</td>\n",
              "      <td>이준익</td>\n",
              "      <td>/ko-KR/contents/mYdE0OX</td>\n",
              "    </tr>\n",
              "    <tr>\n",
              "      <th>493</th>\n",
              "      <td>퍼시잭슨과 번개 도둑</td>\n",
              "      <td>크리스 콜럼버스</td>\n",
              "      <td>/ko-KR/contents/mWJy3J5</td>\n",
              "    </tr>\n",
              "  </tbody>\n",
              "</table>\n",
              "<p>494 rows × 3 columns</p>\n",
              "</div>"
            ],
            "text/plain": [
              "             영화명        감독                      url\n",
              "0             명량       김한민  /ko-KR/contents/mWzM9D5\n",
              "1           극한직업       이병헌  /ko-KR/contents/mdMBlkR\n",
              "2      신과함께-죄와 벌       김용화  /ko-KR/contents/mWw8zEO\n",
              "3           국제시장       윤제균  /ko-KR/contents/mdReBLO\n",
              "4     어벤져스: 엔드게임      조 루소  /ko-KR/contents/mdBzNnP\n",
              "..           ...       ...                      ...\n",
              "489       오늘의 연애       박진표  /ko-KR/contents/mOkXVQd\n",
              "490          글러브       강우석  /ko-KR/contents/mZ5e9R5\n",
              "491      러브 액츄얼리   리처드 커티스  /ko-KR/contents/mBOkbkW\n",
              "492       라디오 스타       이준익  /ko-KR/contents/mYdE0OX\n",
              "493  퍼시잭슨과 번개 도둑  크리스 콜럼버스  /ko-KR/contents/mWJy3J5\n",
              "\n",
              "[494 rows x 3 columns]"
            ]
          },
          "execution_count": 835,
          "metadata": {},
          "output_type": "execute_result"
        }
      ],
      "source": [
        "movie_urls.reset_index(drop=True, inplace=True)\n",
        "movie_urls"
      ]
    },
    {
      "cell_type": "code",
      "execution_count": null,
      "id": "598bc818",
      "metadata": {
        "id": "598bc818",
        "outputId": "f0721c46-c086-4301-de97-6f98a907f524"
      },
      "outputs": [
        {
          "data": {
            "text/html": [
              "<div>\n",
              "<style scoped>\n",
              "    .dataframe tbody tr th:only-of-type {\n",
              "        vertical-align: middle;\n",
              "    }\n",
              "\n",
              "    .dataframe tbody tr th {\n",
              "        vertical-align: top;\n",
              "    }\n",
              "\n",
              "    .dataframe thead th {\n",
              "        text-align: right;\n",
              "    }\n",
              "</style>\n",
              "<table border=\"1\" class=\"dataframe\">\n",
              "  <thead>\n",
              "    <tr style=\"text-align: right;\">\n",
              "      <th></th>\n",
              "      <th>영화명</th>\n",
              "      <th>감독</th>\n",
              "      <th>url</th>\n",
              "    </tr>\n",
              "  </thead>\n",
              "  <tbody>\n",
              "    <tr>\n",
              "      <th>0</th>\n",
              "      <td>명량</td>\n",
              "      <td>김한민</td>\n",
              "      <td>/ko-KR/contents/mWzM9D5</td>\n",
              "    </tr>\n",
              "    <tr>\n",
              "      <th>1</th>\n",
              "      <td>극한직업</td>\n",
              "      <td>이병헌</td>\n",
              "      <td>/ko-KR/contents/mdMBlkR</td>\n",
              "    </tr>\n",
              "    <tr>\n",
              "      <th>2</th>\n",
              "      <td>신과함께-죄와 벌</td>\n",
              "      <td>김용화</td>\n",
              "      <td>/ko-KR/contents/mWw8zEO</td>\n",
              "    </tr>\n",
              "    <tr>\n",
              "      <th>3</th>\n",
              "      <td>국제시장</td>\n",
              "      <td>윤제균</td>\n",
              "      <td>/ko-KR/contents/mdReBLO</td>\n",
              "    </tr>\n",
              "    <tr>\n",
              "      <th>4</th>\n",
              "      <td>어벤져스: 엔드게임</td>\n",
              "      <td>조 루소</td>\n",
              "      <td>/ko-KR/contents/mdBzNnP</td>\n",
              "    </tr>\n",
              "    <tr>\n",
              "      <th>...</th>\n",
              "      <td>...</td>\n",
              "      <td>...</td>\n",
              "      <td>...</td>\n",
              "    </tr>\n",
              "    <tr>\n",
              "      <th>492</th>\n",
              "      <td>라디오 스타</td>\n",
              "      <td>이준익</td>\n",
              "      <td>/ko-KR/contents/mYdE0OX</td>\n",
              "    </tr>\n",
              "    <tr>\n",
              "      <th>493</th>\n",
              "      <td>퍼시잭슨과 번개 도둑</td>\n",
              "      <td>크리스 콜럼버스</td>\n",
              "      <td>/ko-KR/contents/mWJy3J5</td>\n",
              "    </tr>\n",
              "    <tr>\n",
              "      <th>494</th>\n",
              "      <td>스파이</td>\n",
              "      <td>폴 페이그</td>\n",
              "      <td>/ko-KR/contents/m5rQoaV</td>\n",
              "    </tr>\n",
              "    <tr>\n",
              "      <th>495</th>\n",
              "      <td>스파이</td>\n",
              "      <td>이승준</td>\n",
              "      <td>/ko-KR/contents/mW48noW</td>\n",
              "    </tr>\n",
              "    <tr>\n",
              "      <th>496</th>\n",
              "      <td>블라인드</td>\n",
              "      <td>안상훈</td>\n",
              "      <td>/ko-KR/contents/m5e77oO</td>\n",
              "    </tr>\n",
              "  </tbody>\n",
              "</table>\n",
              "<p>497 rows × 3 columns</p>\n",
              "</div>"
            ],
            "text/plain": [
              "             영화명        감독                      url\n",
              "0             명량       김한민  /ko-KR/contents/mWzM9D5\n",
              "1           극한직업       이병헌  /ko-KR/contents/mdMBlkR\n",
              "2      신과함께-죄와 벌       김용화  /ko-KR/contents/mWw8zEO\n",
              "3           국제시장       윤제균  /ko-KR/contents/mdReBLO\n",
              "4     어벤져스: 엔드게임      조 루소  /ko-KR/contents/mdBzNnP\n",
              "..           ...       ...                      ...\n",
              "492       라디오 스타       이준익  /ko-KR/contents/mYdE0OX\n",
              "493  퍼시잭슨과 번개 도둑  크리스 콜럼버스  /ko-KR/contents/mWJy3J5\n",
              "494          스파이     폴 페이그  /ko-KR/contents/m5rQoaV\n",
              "495          스파이       이승준  /ko-KR/contents/mW48noW\n",
              "496         블라인드       안상훈  /ko-KR/contents/m5e77oO\n",
              "\n",
              "[497 rows x 3 columns]"
            ]
          },
          "execution_count": 837,
          "metadata": {},
          "output_type": "execute_result"
        }
      ],
      "source": [
        "movie_urls.loc[494] = ['스파이', '폴 페이그', '/ko-KR/contents/m5rQoaV']\n",
        "movie_urls.loc[495] = ['스파이', '이승준', '/ko-KR/contents/mW48noW']\n",
        "movie_urls.loc[496] = ['블라인드', '안상훈', '/ko-KR/contents/m5e77oO']\n",
        "movie_urls"
      ]
    },
    {
      "cell_type": "code",
      "execution_count": null,
      "id": "69c0b9eb",
      "metadata": {
        "id": "69c0b9eb"
      },
      "outputs": [],
      "source": [
        "movie_urls.to_csv('왓챠피디아 영화 url.csv', index=False)"
      ]
    },
    {
      "cell_type": "code",
      "execution_count": null,
      "id": "23f70d7a",
      "metadata": {
        "id": "23f70d7a",
        "outputId": "f92b0c70-93d5-4dbd-a206-8bf2168b60f6"
      },
      "outputs": [
        {
          "data": {
            "text/html": [
              "<div>\n",
              "<style scoped>\n",
              "    .dataframe tbody tr th:only-of-type {\n",
              "        vertical-align: middle;\n",
              "    }\n",
              "\n",
              "    .dataframe tbody tr th {\n",
              "        vertical-align: top;\n",
              "    }\n",
              "\n",
              "    .dataframe thead th {\n",
              "        text-align: right;\n",
              "    }\n",
              "</style>\n",
              "<table border=\"1\" class=\"dataframe\">\n",
              "  <thead>\n",
              "    <tr style=\"text-align: right;\">\n",
              "      <th></th>\n",
              "      <th>영화명</th>\n",
              "      <th>감독</th>\n",
              "      <th>url</th>\n",
              "    </tr>\n",
              "  </thead>\n",
              "  <tbody>\n",
              "    <tr>\n",
              "      <th>0</th>\n",
              "      <td>명량</td>\n",
              "      <td>김한민</td>\n",
              "      <td>/ko-KR/contents/mWzM9D5</td>\n",
              "    </tr>\n",
              "    <tr>\n",
              "      <th>1</th>\n",
              "      <td>극한직업</td>\n",
              "      <td>이병헌</td>\n",
              "      <td>/ko-KR/contents/mdMBlkR</td>\n",
              "    </tr>\n",
              "    <tr>\n",
              "      <th>2</th>\n",
              "      <td>신과함께-죄와 벌</td>\n",
              "      <td>김용화</td>\n",
              "      <td>/ko-KR/contents/mWw8zEO</td>\n",
              "    </tr>\n",
              "    <tr>\n",
              "      <th>3</th>\n",
              "      <td>국제시장</td>\n",
              "      <td>윤제균</td>\n",
              "      <td>/ko-KR/contents/mdReBLO</td>\n",
              "    </tr>\n",
              "    <tr>\n",
              "      <th>4</th>\n",
              "      <td>어벤져스: 엔드게임</td>\n",
              "      <td>조 루소</td>\n",
              "      <td>/ko-KR/contents/mdBzNnP</td>\n",
              "    </tr>\n",
              "    <tr>\n",
              "      <th>...</th>\n",
              "      <td>...</td>\n",
              "      <td>...</td>\n",
              "      <td>...</td>\n",
              "    </tr>\n",
              "    <tr>\n",
              "      <th>492</th>\n",
              "      <td>라디오 스타</td>\n",
              "      <td>이준익</td>\n",
              "      <td>/ko-KR/contents/mYdE0OX</td>\n",
              "    </tr>\n",
              "    <tr>\n",
              "      <th>493</th>\n",
              "      <td>퍼시잭슨과 번개 도둑</td>\n",
              "      <td>크리스 콜럼버스</td>\n",
              "      <td>/ko-KR/contents/mWJy3J5</td>\n",
              "    </tr>\n",
              "    <tr>\n",
              "      <th>494</th>\n",
              "      <td>스파이</td>\n",
              "      <td>폴 페이그</td>\n",
              "      <td>/ko-KR/contents/m5rQoaV</td>\n",
              "    </tr>\n",
              "    <tr>\n",
              "      <th>495</th>\n",
              "      <td>스파이</td>\n",
              "      <td>이승준</td>\n",
              "      <td>/ko-KR/contents/mW48noW</td>\n",
              "    </tr>\n",
              "    <tr>\n",
              "      <th>496</th>\n",
              "      <td>블라인드</td>\n",
              "      <td>안상훈</td>\n",
              "      <td>/ko-KR/contents/m5e77oO</td>\n",
              "    </tr>\n",
              "  </tbody>\n",
              "</table>\n",
              "<p>497 rows × 3 columns</p>\n",
              "</div>"
            ],
            "text/plain": [
              "             영화명        감독                      url\n",
              "0             명량       김한민  /ko-KR/contents/mWzM9D5\n",
              "1           극한직업       이병헌  /ko-KR/contents/mdMBlkR\n",
              "2      신과함께-죄와 벌       김용화  /ko-KR/contents/mWw8zEO\n",
              "3           국제시장       윤제균  /ko-KR/contents/mdReBLO\n",
              "4     어벤져스: 엔드게임      조 루소  /ko-KR/contents/mdBzNnP\n",
              "..           ...       ...                      ...\n",
              "492       라디오 스타       이준익  /ko-KR/contents/mYdE0OX\n",
              "493  퍼시잭슨과 번개 도둑  크리스 콜럼버스  /ko-KR/contents/mWJy3J5\n",
              "494          스파이     폴 페이그  /ko-KR/contents/m5rQoaV\n",
              "495          스파이       이승준  /ko-KR/contents/mW48noW\n",
              "496         블라인드       안상훈  /ko-KR/contents/m5e77oO\n",
              "\n",
              "[497 rows x 3 columns]"
            ]
          },
          "execution_count": 839,
          "metadata": {},
          "output_type": "execute_result"
        }
      ],
      "source": [
        "movie_urls"
      ]
    },
    {
      "cell_type": "code",
      "execution_count": null,
      "id": "e05f864b",
      "metadata": {
        "id": "e05f864b"
      },
      "outputs": [],
      "source": []
    },
    {
      "cell_type": "code",
      "execution_count": null,
      "id": "dc7b7e94",
      "metadata": {
        "id": "dc7b7e94"
      },
      "outputs": [],
      "source": [
        "movie_name = list(movie_urls['영화명'])\n",
        "movie_name"
      ]
    },
    {
      "cell_type": "code",
      "execution_count": null,
      "id": "4be53e93",
      "metadata": {
        "id": "4be53e93"
      },
      "outputs": [],
      "source": [
        "movie_ID = list(movie_urls['url'].map(lambda x: 'https://pedia.watcha.com' + x + '/comments'))\n",
        "movie_ID"
      ]
    },
    {
      "cell_type": "code",
      "execution_count": null,
      "id": "6f1f2de3",
      "metadata": {
        "id": "6f1f2de3",
        "outputId": "6ab99ea9-e096-4cd3-9ef6-39a9fd4cfde0"
      },
      "outputs": [
        {
          "data": {
            "text/plain": [
              "True"
            ]
          },
          "execution_count": 860,
          "metadata": {},
          "output_type": "execute_result"
        }
      ],
      "source": [
        "len(movie_name) == len(movie_ID)"
      ]
    },
    {
      "cell_type": "code",
      "execution_count": null,
      "id": "1e0e1e38",
      "metadata": {
        "scrolled": true,
        "id": "1e0e1e38",
        "outputId": "e69bdefc-bcf5-46a1-b576-8470172d2f0f"
      },
      "outputs": [
        {
          "name": "stderr",
          "output_type": "stream",
          "text": [
            "0it [00:00, ?it/s]"
          ]
        },
        {
          "name": "stdout",
          "output_type": "stream",
          "text": [
            "56\n"
          ]
        },
        {
          "name": "stderr",
          "output_type": "stream",
          "text": [
            "1it [00:11, 11.80s/it]"
          ]
        },
        {
          "name": "stdout",
          "output_type": "stream",
          "text": [
            "110\n"
          ]
        },
        {
          "name": "stderr",
          "output_type": "stream",
          "text": [
            "2it [00:23, 11.75s/it]"
          ]
        },
        {
          "name": "stdout",
          "output_type": "stream",
          "text": [
            "163\n"
          ]
        },
        {
          "name": "stderr",
          "output_type": "stream",
          "text": [
            "3it [00:35, 11.91s/it]"
          ]
        },
        {
          "name": "stdout",
          "output_type": "stream",
          "text": [
            "211\n"
          ]
        },
        {
          "name": "stderr",
          "output_type": "stream",
          "text": [
            "4it [00:47, 12.03s/it]"
          ]
        },
        {
          "name": "stdout",
          "output_type": "stream",
          "text": [
            "267\n"
          ]
        },
        {
          "name": "stderr",
          "output_type": "stream",
          "text": [
            "5it [00:59, 11.87s/it]"
          ]
        },
        {
          "name": "stdout",
          "output_type": "stream",
          "text": [
            "323\n"
          ]
        },
        {
          "name": "stderr",
          "output_type": "stream",
          "text": [
            "6it [01:10, 11.77s/it]"
          ]
        },
        {
          "name": "stdout",
          "output_type": "stream",
          "text": [
            "379\n"
          ]
        },
        {
          "name": "stderr",
          "output_type": "stream",
          "text": [
            "7it [01:22, 11.78s/it]"
          ]
        },
        {
          "name": "stdout",
          "output_type": "stream",
          "text": [
            "435\n"
          ]
        },
        {
          "name": "stderr",
          "output_type": "stream",
          "text": [
            "8it [01:34, 11.67s/it]"
          ]
        },
        {
          "name": "stdout",
          "output_type": "stream",
          "text": [
            "491\n"
          ]
        },
        {
          "name": "stderr",
          "output_type": "stream",
          "text": [
            "9it [01:45, 11.69s/it]"
          ]
        },
        {
          "name": "stdout",
          "output_type": "stream",
          "text": [
            "547\n"
          ]
        },
        {
          "name": "stderr",
          "output_type": "stream",
          "text": [
            "10it [01:57, 11.79s/it]"
          ]
        },
        {
          "name": "stdout",
          "output_type": "stream",
          "text": [
            "603\n"
          ]
        },
        {
          "name": "stderr",
          "output_type": "stream",
          "text": [
            "11it [02:09, 11.72s/it]"
          ]
        },
        {
          "name": "stdout",
          "output_type": "stream",
          "text": [
            "659\n"
          ]
        },
        {
          "name": "stderr",
          "output_type": "stream",
          "text": [
            "12it [02:21, 11.68s/it]"
          ]
        },
        {
          "name": "stdout",
          "output_type": "stream",
          "text": [
            "715\n"
          ]
        },
        {
          "name": "stderr",
          "output_type": "stream",
          "text": [
            "13it [02:32, 11.66s/it]"
          ]
        },
        {
          "name": "stdout",
          "output_type": "stream",
          "text": [
            "771\n"
          ]
        },
        {
          "name": "stderr",
          "output_type": "stream",
          "text": [
            "14it [02:44, 11.70s/it]"
          ]
        },
        {
          "name": "stdout",
          "output_type": "stream",
          "text": [
            "827\n"
          ]
        },
        {
          "name": "stderr",
          "output_type": "stream",
          "text": [
            "15it [02:56, 11.71s/it]"
          ]
        },
        {
          "name": "stdout",
          "output_type": "stream",
          "text": [
            "883\n"
          ]
        },
        {
          "name": "stderr",
          "output_type": "stream",
          "text": [
            "16it [03:08, 11.82s/it]"
          ]
        },
        {
          "name": "stdout",
          "output_type": "stream",
          "text": [
            "939\n"
          ]
        },
        {
          "name": "stderr",
          "output_type": "stream",
          "text": [
            "17it [03:19, 11.75s/it]"
          ]
        },
        {
          "name": "stdout",
          "output_type": "stream",
          "text": [
            "995\n"
          ]
        },
        {
          "name": "stderr",
          "output_type": "stream",
          "text": [
            "18it [03:31, 11.70s/it]"
          ]
        },
        {
          "name": "stdout",
          "output_type": "stream",
          "text": [
            "1051\n"
          ]
        },
        {
          "name": "stderr",
          "output_type": "stream",
          "text": [
            "19it [03:43, 11.67s/it]"
          ]
        },
        {
          "name": "stdout",
          "output_type": "stream",
          "text": [
            "1107\n"
          ]
        },
        {
          "name": "stderr",
          "output_type": "stream",
          "text": [
            "20it [03:54, 11.56s/it]"
          ]
        },
        {
          "name": "stdout",
          "output_type": "stream",
          "text": [
            "1163\n"
          ]
        },
        {
          "name": "stderr",
          "output_type": "stream",
          "text": [
            "21it [04:05, 11.56s/it]"
          ]
        },
        {
          "name": "stdout",
          "output_type": "stream",
          "text": [
            "1216\n"
          ]
        },
        {
          "name": "stderr",
          "output_type": "stream",
          "text": [
            "22it [04:17, 11.68s/it]"
          ]
        },
        {
          "name": "stdout",
          "output_type": "stream",
          "text": [
            "1271\n"
          ]
        },
        {
          "name": "stderr",
          "output_type": "stream",
          "text": [
            "23it [04:29, 11.67s/it]"
          ]
        },
        {
          "name": "stdout",
          "output_type": "stream",
          "text": [
            "1327\n"
          ]
        },
        {
          "name": "stderr",
          "output_type": "stream",
          "text": [
            "24it [04:41, 11.69s/it]"
          ]
        },
        {
          "name": "stdout",
          "output_type": "stream",
          "text": [
            "1383\n"
          ]
        },
        {
          "name": "stderr",
          "output_type": "stream",
          "text": [
            "25it [04:52, 11.59s/it]"
          ]
        },
        {
          "name": "stdout",
          "output_type": "stream",
          "text": [
            "1439\n"
          ]
        },
        {
          "name": "stderr",
          "output_type": "stream",
          "text": [
            "26it [05:04, 11.58s/it]"
          ]
        },
        {
          "name": "stdout",
          "output_type": "stream",
          "text": [
            "1495\n"
          ]
        },
        {
          "name": "stderr",
          "output_type": "stream",
          "text": [
            "27it [05:15, 11.60s/it]"
          ]
        },
        {
          "name": "stdout",
          "output_type": "stream",
          "text": [
            "1547\n"
          ]
        },
        {
          "name": "stderr",
          "output_type": "stream",
          "text": [
            "28it [05:27, 11.61s/it]"
          ]
        },
        {
          "name": "stdout",
          "output_type": "stream",
          "text": [
            "1603\n"
          ]
        },
        {
          "name": "stderr",
          "output_type": "stream",
          "text": [
            "29it [05:39, 11.59s/it]"
          ]
        },
        {
          "name": "stdout",
          "output_type": "stream",
          "text": [
            "1659\n"
          ]
        },
        {
          "name": "stderr",
          "output_type": "stream",
          "text": [
            "30it [05:50, 11.63s/it]"
          ]
        },
        {
          "name": "stdout",
          "output_type": "stream",
          "text": [
            "1715\n"
          ]
        },
        {
          "name": "stderr",
          "output_type": "stream",
          "text": [
            "31it [06:02, 11.64s/it]"
          ]
        },
        {
          "name": "stdout",
          "output_type": "stream",
          "text": [
            "1771\n"
          ]
        },
        {
          "name": "stderr",
          "output_type": "stream",
          "text": [
            "32it [06:14, 11.63s/it]"
          ]
        },
        {
          "name": "stdout",
          "output_type": "stream",
          "text": [
            "1826\n"
          ]
        },
        {
          "name": "stderr",
          "output_type": "stream",
          "text": [
            "33it [06:25, 11.62s/it]"
          ]
        },
        {
          "name": "stdout",
          "output_type": "stream",
          "text": [
            "1881\n"
          ]
        },
        {
          "name": "stderr",
          "output_type": "stream",
          "text": [
            "34it [06:37, 11.68s/it]"
          ]
        },
        {
          "name": "stdout",
          "output_type": "stream",
          "text": [
            "1937\n"
          ]
        },
        {
          "name": "stderr",
          "output_type": "stream",
          "text": [
            "35it [06:48, 11.63s/it]"
          ]
        },
        {
          "name": "stdout",
          "output_type": "stream",
          "text": [
            "1993\n"
          ]
        },
        {
          "name": "stderr",
          "output_type": "stream",
          "text": [
            "36it [07:00, 11.54s/it]"
          ]
        },
        {
          "name": "stdout",
          "output_type": "stream",
          "text": [
            "2049\n"
          ]
        },
        {
          "name": "stderr",
          "output_type": "stream",
          "text": [
            "37it [07:11, 11.57s/it]"
          ]
        },
        {
          "name": "stdout",
          "output_type": "stream",
          "text": [
            "2104\n"
          ]
        },
        {
          "name": "stderr",
          "output_type": "stream",
          "text": [
            "38it [07:23, 11.56s/it]"
          ]
        },
        {
          "name": "stdout",
          "output_type": "stream",
          "text": [
            "2156\n"
          ]
        },
        {
          "name": "stderr",
          "output_type": "stream",
          "text": [
            "39it [07:35, 11.57s/it]"
          ]
        },
        {
          "name": "stdout",
          "output_type": "stream",
          "text": [
            "2212\n"
          ]
        },
        {
          "name": "stderr",
          "output_type": "stream",
          "text": [
            "40it [07:47, 11.74s/it]"
          ]
        },
        {
          "name": "stdout",
          "output_type": "stream",
          "text": [
            "2268\n"
          ]
        },
        {
          "name": "stderr",
          "output_type": "stream",
          "text": [
            "41it [07:58, 11.72s/it]"
          ]
        },
        {
          "name": "stdout",
          "output_type": "stream",
          "text": [
            "2324\n"
          ]
        },
        {
          "name": "stderr",
          "output_type": "stream",
          "text": [
            "42it [08:10, 11.68s/it]"
          ]
        },
        {
          "name": "stdout",
          "output_type": "stream",
          "text": [
            "2380\n"
          ]
        },
        {
          "name": "stderr",
          "output_type": "stream",
          "text": [
            "43it [08:22, 11.65s/it]"
          ]
        },
        {
          "name": "stdout",
          "output_type": "stream",
          "text": [
            "2436\n"
          ]
        },
        {
          "name": "stderr",
          "output_type": "stream",
          "text": [
            "44it [08:33, 11.68s/it]"
          ]
        },
        {
          "name": "stdout",
          "output_type": "stream",
          "text": [
            "2491\n"
          ]
        },
        {
          "name": "stderr",
          "output_type": "stream",
          "text": [
            "45it [08:45, 11.61s/it]"
          ]
        },
        {
          "name": "stdout",
          "output_type": "stream",
          "text": [
            "2547\n"
          ]
        },
        {
          "name": "stderr",
          "output_type": "stream",
          "text": [
            "46it [08:57, 11.68s/it]"
          ]
        },
        {
          "name": "stdout",
          "output_type": "stream",
          "text": [
            "2603\n"
          ]
        },
        {
          "name": "stderr",
          "output_type": "stream",
          "text": [
            "47it [09:08, 11.69s/it]"
          ]
        },
        {
          "name": "stdout",
          "output_type": "stream",
          "text": [
            "2659\n"
          ]
        },
        {
          "name": "stderr",
          "output_type": "stream",
          "text": [
            "48it [09:20, 11.68s/it]"
          ]
        },
        {
          "name": "stdout",
          "output_type": "stream",
          "text": [
            "2715\n"
          ]
        },
        {
          "name": "stderr",
          "output_type": "stream",
          "text": [
            "49it [09:32, 11.74s/it]"
          ]
        },
        {
          "name": "stdout",
          "output_type": "stream",
          "text": [
            "2771\n"
          ]
        },
        {
          "name": "stderr",
          "output_type": "stream",
          "text": [
            "50it [09:44, 11.71s/it]"
          ]
        },
        {
          "name": "stdout",
          "output_type": "stream",
          "text": [
            "2826\n"
          ]
        },
        {
          "name": "stderr",
          "output_type": "stream",
          "text": [
            "51it [09:55, 11.63s/it]"
          ]
        },
        {
          "name": "stdout",
          "output_type": "stream",
          "text": [
            "2882\n"
          ]
        },
        {
          "name": "stderr",
          "output_type": "stream",
          "text": [
            "52it [10:06, 11.61s/it]"
          ]
        },
        {
          "name": "stdout",
          "output_type": "stream",
          "text": [
            "2938\n"
          ]
        },
        {
          "name": "stderr",
          "output_type": "stream",
          "text": [
            "53it [10:18, 11.55s/it]"
          ]
        },
        {
          "name": "stdout",
          "output_type": "stream",
          "text": [
            "2994\n"
          ]
        },
        {
          "name": "stderr",
          "output_type": "stream",
          "text": [
            "54it [10:29, 11.53s/it]"
          ]
        },
        {
          "name": "stdout",
          "output_type": "stream",
          "text": [
            "3050\n"
          ]
        },
        {
          "name": "stderr",
          "output_type": "stream",
          "text": [
            "55it [10:41, 11.51s/it]"
          ]
        },
        {
          "name": "stdout",
          "output_type": "stream",
          "text": [
            "3106\n"
          ]
        },
        {
          "name": "stderr",
          "output_type": "stream",
          "text": [
            "56it [10:52, 11.49s/it]"
          ]
        },
        {
          "name": "stdout",
          "output_type": "stream",
          "text": [
            "3162\n"
          ]
        },
        {
          "name": "stderr",
          "output_type": "stream",
          "text": [
            "57it [11:04, 11.56s/it]"
          ]
        },
        {
          "name": "stdout",
          "output_type": "stream",
          "text": [
            "3216\n"
          ]
        },
        {
          "name": "stderr",
          "output_type": "stream",
          "text": [
            "58it [11:16, 11.59s/it]"
          ]
        },
        {
          "name": "stdout",
          "output_type": "stream",
          "text": [
            "3272\n"
          ]
        },
        {
          "name": "stderr",
          "output_type": "stream",
          "text": [
            "59it [11:28, 11.67s/it]"
          ]
        },
        {
          "name": "stdout",
          "output_type": "stream",
          "text": [
            "3327\n"
          ]
        },
        {
          "name": "stderr",
          "output_type": "stream",
          "text": [
            "60it [11:39, 11.61s/it]"
          ]
        },
        {
          "name": "stdout",
          "output_type": "stream",
          "text": [
            "3383\n"
          ]
        },
        {
          "name": "stderr",
          "output_type": "stream",
          "text": [
            "61it [11:51, 11.60s/it]"
          ]
        },
        {
          "name": "stdout",
          "output_type": "stream",
          "text": [
            "3439\n"
          ]
        },
        {
          "name": "stderr",
          "output_type": "stream",
          "text": [
            "62it [12:02, 11.61s/it]"
          ]
        },
        {
          "name": "stdout",
          "output_type": "stream",
          "text": [
            "3495\n"
          ]
        },
        {
          "name": "stderr",
          "output_type": "stream",
          "text": [
            "63it [12:14, 11.72s/it]"
          ]
        },
        {
          "name": "stdout",
          "output_type": "stream",
          "text": [
            "3551\n"
          ]
        },
        {
          "name": "stderr",
          "output_type": "stream",
          "text": [
            "64it [12:26, 11.73s/it]"
          ]
        },
        {
          "name": "stdout",
          "output_type": "stream",
          "text": [
            "3607\n"
          ]
        },
        {
          "name": "stderr",
          "output_type": "stream",
          "text": [
            "65it [12:38, 11.69s/it]"
          ]
        },
        {
          "name": "stdout",
          "output_type": "stream",
          "text": [
            "3663\n"
          ]
        },
        {
          "name": "stderr",
          "output_type": "stream",
          "text": [
            "66it [12:49, 11.71s/it]"
          ]
        },
        {
          "name": "stdout",
          "output_type": "stream",
          "text": [
            "3719\n"
          ]
        },
        {
          "name": "stderr",
          "output_type": "stream",
          "text": [
            "67it [13:01, 11.73s/it]"
          ]
        },
        {
          "name": "stdout",
          "output_type": "stream",
          "text": [
            "3775\n"
          ]
        },
        {
          "name": "stderr",
          "output_type": "stream",
          "text": [
            "68it [13:13, 11.88s/it]"
          ]
        },
        {
          "name": "stdout",
          "output_type": "stream",
          "text": [
            "3831\n"
          ]
        },
        {
          "name": "stderr",
          "output_type": "stream",
          "text": [
            "69it [13:25, 11.88s/it]"
          ]
        },
        {
          "name": "stdout",
          "output_type": "stream",
          "text": [
            "3887\n"
          ]
        },
        {
          "name": "stderr",
          "output_type": "stream",
          "text": [
            "70it [13:37, 11.87s/it]"
          ]
        },
        {
          "name": "stdout",
          "output_type": "stream",
          "text": [
            "3942\n"
          ]
        },
        {
          "name": "stderr",
          "output_type": "stream",
          "text": [
            "71it [13:49, 11.86s/it]"
          ]
        },
        {
          "name": "stdout",
          "output_type": "stream",
          "text": [
            "3998\n"
          ]
        },
        {
          "name": "stderr",
          "output_type": "stream",
          "text": [
            "72it [14:01, 11.86s/it]"
          ]
        },
        {
          "name": "stdout",
          "output_type": "stream",
          "text": [
            "4054\n"
          ]
        },
        {
          "name": "stderr",
          "output_type": "stream",
          "text": [
            "73it [14:12, 11.82s/it]"
          ]
        },
        {
          "name": "stdout",
          "output_type": "stream",
          "text": [
            "4110\n"
          ]
        },
        {
          "name": "stderr",
          "output_type": "stream",
          "text": [
            "74it [14:24, 11.68s/it]"
          ]
        },
        {
          "name": "stdout",
          "output_type": "stream",
          "text": [
            "4166\n"
          ]
        },
        {
          "name": "stderr",
          "output_type": "stream",
          "text": [
            "75it [14:35, 11.60s/it]"
          ]
        },
        {
          "name": "stdout",
          "output_type": "stream",
          "text": [
            "4222\n"
          ]
        },
        {
          "name": "stderr",
          "output_type": "stream",
          "text": [
            "76it [14:47, 11.52s/it]"
          ]
        },
        {
          "name": "stdout",
          "output_type": "stream",
          "text": [
            "4277\n"
          ]
        },
        {
          "name": "stderr",
          "output_type": "stream",
          "text": [
            "77it [14:58, 11.48s/it]"
          ]
        },
        {
          "name": "stdout",
          "output_type": "stream",
          "text": [
            "4333\n"
          ]
        },
        {
          "name": "stderr",
          "output_type": "stream",
          "text": [
            "78it [15:10, 11.51s/it]"
          ]
        },
        {
          "name": "stdout",
          "output_type": "stream",
          "text": [
            "4389\n"
          ]
        },
        {
          "name": "stderr",
          "output_type": "stream",
          "text": [
            "79it [15:21, 11.57s/it]"
          ]
        },
        {
          "name": "stdout",
          "output_type": "stream",
          "text": [
            "4444\n"
          ]
        },
        {
          "name": "stderr",
          "output_type": "stream",
          "text": [
            "80it [15:33, 11.57s/it]"
          ]
        },
        {
          "name": "stdout",
          "output_type": "stream",
          "text": [
            "4500\n"
          ]
        },
        {
          "name": "stderr",
          "output_type": "stream",
          "text": [
            "81it [15:45, 11.88s/it]"
          ]
        },
        {
          "name": "stdout",
          "output_type": "stream",
          "text": [
            "4556\n"
          ]
        },
        {
          "name": "stderr",
          "output_type": "stream",
          "text": [
            "82it [15:57, 11.70s/it]"
          ]
        },
        {
          "name": "stdout",
          "output_type": "stream",
          "text": [
            "4612\n"
          ]
        },
        {
          "name": "stderr",
          "output_type": "stream",
          "text": [
            "83it [16:08, 11.67s/it]"
          ]
        },
        {
          "name": "stdout",
          "output_type": "stream",
          "text": [
            "4668\n"
          ]
        },
        {
          "name": "stderr",
          "output_type": "stream",
          "text": [
            "84it [16:20, 11.61s/it]"
          ]
        },
        {
          "name": "stdout",
          "output_type": "stream",
          "text": [
            "4723\n"
          ]
        },
        {
          "name": "stderr",
          "output_type": "stream",
          "text": [
            "85it [16:32, 11.66s/it]"
          ]
        },
        {
          "name": "stdout",
          "output_type": "stream",
          "text": [
            "4779\n"
          ]
        },
        {
          "name": "stderr",
          "output_type": "stream",
          "text": [
            "86it [16:44, 11.76s/it]"
          ]
        },
        {
          "name": "stdout",
          "output_type": "stream",
          "text": [
            "4835\n"
          ]
        },
        {
          "name": "stderr",
          "output_type": "stream",
          "text": [
            "87it [16:55, 11.69s/it]"
          ]
        },
        {
          "name": "stdout",
          "output_type": "stream",
          "text": [
            "4891\n"
          ]
        },
        {
          "name": "stderr",
          "output_type": "stream",
          "text": [
            "88it [17:07, 11.64s/it]"
          ]
        },
        {
          "name": "stdout",
          "output_type": "stream",
          "text": [
            "4947\n"
          ]
        },
        {
          "name": "stderr",
          "output_type": "stream",
          "text": [
            "89it [17:18, 11.61s/it]"
          ]
        },
        {
          "name": "stdout",
          "output_type": "stream",
          "text": [
            "5003\n"
          ]
        },
        {
          "name": "stderr",
          "output_type": "stream",
          "text": [
            "90it [17:30, 11.59s/it]"
          ]
        },
        {
          "name": "stdout",
          "output_type": "stream",
          "text": [
            "5059\n"
          ]
        },
        {
          "name": "stderr",
          "output_type": "stream",
          "text": [
            "91it [17:41, 11.55s/it]"
          ]
        },
        {
          "name": "stdout",
          "output_type": "stream",
          "text": [
            "5115\n"
          ]
        },
        {
          "name": "stderr",
          "output_type": "stream",
          "text": [
            "92it [17:54, 11.91s/it]"
          ]
        },
        {
          "name": "stdout",
          "output_type": "stream",
          "text": [
            "5171\n"
          ]
        },
        {
          "name": "stderr",
          "output_type": "stream",
          "text": [
            "93it [18:06, 11.85s/it]"
          ]
        },
        {
          "name": "stdout",
          "output_type": "stream",
          "text": [
            "5227\n"
          ]
        },
        {
          "name": "stderr",
          "output_type": "stream",
          "text": [
            "94it [18:17, 11.72s/it]"
          ]
        },
        {
          "name": "stdout",
          "output_type": "stream",
          "text": [
            "5283\n"
          ]
        },
        {
          "name": "stderr",
          "output_type": "stream",
          "text": [
            "95it [18:29, 11.70s/it]"
          ]
        },
        {
          "name": "stdout",
          "output_type": "stream",
          "text": [
            "5339\n"
          ]
        },
        {
          "name": "stderr",
          "output_type": "stream",
          "text": [
            "96it [18:40, 11.63s/it]"
          ]
        },
        {
          "name": "stdout",
          "output_type": "stream",
          "text": [
            "5395\n"
          ]
        },
        {
          "name": "stderr",
          "output_type": "stream",
          "text": [
            "97it [18:52, 11.65s/it]"
          ]
        },
        {
          "name": "stdout",
          "output_type": "stream",
          "text": [
            "5451\n"
          ]
        },
        {
          "name": "stderr",
          "output_type": "stream",
          "text": [
            "98it [19:04, 11.85s/it]"
          ]
        },
        {
          "name": "stdout",
          "output_type": "stream",
          "text": [
            "5507\n"
          ]
        },
        {
          "name": "stderr",
          "output_type": "stream",
          "text": [
            "99it [19:16, 11.84s/it]"
          ]
        },
        {
          "name": "stdout",
          "output_type": "stream",
          "text": [
            "5560\n"
          ]
        },
        {
          "name": "stderr",
          "output_type": "stream",
          "text": [
            "100it [19:28, 11.76s/it]"
          ]
        },
        {
          "name": "stdout",
          "output_type": "stream",
          "text": [
            "5616\n"
          ]
        },
        {
          "name": "stderr",
          "output_type": "stream",
          "text": [
            "101it [19:39, 11.82s/it]"
          ]
        },
        {
          "name": "stdout",
          "output_type": "stream",
          "text": [
            "5672\n"
          ]
        },
        {
          "name": "stderr",
          "output_type": "stream",
          "text": [
            "102it [19:51, 11.76s/it]"
          ]
        },
        {
          "name": "stdout",
          "output_type": "stream",
          "text": [
            "5727\n"
          ]
        },
        {
          "name": "stderr",
          "output_type": "stream",
          "text": [
            "103it [20:03, 11.81s/it]"
          ]
        },
        {
          "name": "stdout",
          "output_type": "stream",
          "text": [
            "5783\n"
          ]
        },
        {
          "name": "stderr",
          "output_type": "stream",
          "text": [
            "104it [20:15, 11.81s/it]"
          ]
        },
        {
          "name": "stdout",
          "output_type": "stream",
          "text": [
            "5839\n"
          ]
        },
        {
          "name": "stderr",
          "output_type": "stream",
          "text": [
            "105it [20:27, 11.85s/it]"
          ]
        },
        {
          "name": "stdout",
          "output_type": "stream",
          "text": [
            "5895\n"
          ]
        },
        {
          "name": "stderr",
          "output_type": "stream",
          "text": [
            "106it [20:39, 11.84s/it]"
          ]
        },
        {
          "name": "stdout",
          "output_type": "stream",
          "text": [
            "5951\n"
          ]
        },
        {
          "name": "stderr",
          "output_type": "stream",
          "text": [
            "107it [20:50, 11.77s/it]"
          ]
        },
        {
          "name": "stdout",
          "output_type": "stream",
          "text": [
            "6007\n"
          ]
        },
        {
          "name": "stderr",
          "output_type": "stream",
          "text": [
            "108it [21:02, 11.71s/it]"
          ]
        },
        {
          "name": "stdout",
          "output_type": "stream",
          "text": [
            "6063\n"
          ]
        },
        {
          "name": "stderr",
          "output_type": "stream",
          "text": [
            "109it [21:14, 11.72s/it]"
          ]
        },
        {
          "name": "stdout",
          "output_type": "stream",
          "text": [
            "6119\n"
          ]
        },
        {
          "name": "stderr",
          "output_type": "stream",
          "text": [
            "110it [21:25, 11.66s/it]"
          ]
        },
        {
          "name": "stdout",
          "output_type": "stream",
          "text": [
            "6175\n"
          ]
        },
        {
          "name": "stderr",
          "output_type": "stream",
          "text": [
            "111it [21:36, 11.57s/it]"
          ]
        },
        {
          "name": "stdout",
          "output_type": "stream",
          "text": [
            "6231\n"
          ]
        },
        {
          "name": "stderr",
          "output_type": "stream",
          "text": [
            "112it [21:48, 11.63s/it]"
          ]
        },
        {
          "name": "stdout",
          "output_type": "stream",
          "text": [
            "6287\n"
          ]
        },
        {
          "name": "stderr",
          "output_type": "stream",
          "text": [
            "113it [22:00, 11.60s/it]"
          ]
        },
        {
          "name": "stdout",
          "output_type": "stream",
          "text": [
            "6343\n"
          ]
        },
        {
          "name": "stderr",
          "output_type": "stream",
          "text": [
            "114it [22:11, 11.65s/it]"
          ]
        },
        {
          "name": "stdout",
          "output_type": "stream",
          "text": [
            "6399\n"
          ]
        },
        {
          "name": "stderr",
          "output_type": "stream",
          "text": [
            "115it [22:23, 11.67s/it]"
          ]
        },
        {
          "name": "stdout",
          "output_type": "stream",
          "text": [
            "6454\n"
          ]
        },
        {
          "name": "stderr",
          "output_type": "stream",
          "text": [
            "116it [22:35, 11.64s/it]"
          ]
        },
        {
          "name": "stdout",
          "output_type": "stream",
          "text": [
            "6510\n"
          ]
        },
        {
          "name": "stderr",
          "output_type": "stream",
          "text": [
            "117it [22:47, 11.69s/it]"
          ]
        },
        {
          "name": "stdout",
          "output_type": "stream",
          "text": [
            "6566\n"
          ]
        },
        {
          "name": "stderr",
          "output_type": "stream",
          "text": [
            "118it [22:58, 11.61s/it]"
          ]
        },
        {
          "name": "stdout",
          "output_type": "stream",
          "text": [
            "6621\n"
          ]
        },
        {
          "name": "stderr",
          "output_type": "stream",
          "text": [
            "119it [23:10, 11.65s/it]"
          ]
        },
        {
          "name": "stdout",
          "output_type": "stream",
          "text": [
            "6677\n"
          ]
        },
        {
          "name": "stderr",
          "output_type": "stream",
          "text": [
            "120it [23:21, 11.65s/it]"
          ]
        },
        {
          "name": "stdout",
          "output_type": "stream",
          "text": [
            "6733\n"
          ]
        },
        {
          "name": "stderr",
          "output_type": "stream",
          "text": [
            "121it [23:33, 11.67s/it]"
          ]
        },
        {
          "name": "stdout",
          "output_type": "stream",
          "text": [
            "6781\n"
          ]
        },
        {
          "name": "stderr",
          "output_type": "stream",
          "text": [
            "122it [23:45, 11.79s/it]"
          ]
        },
        {
          "name": "stdout",
          "output_type": "stream",
          "text": [
            "6837\n"
          ]
        },
        {
          "name": "stderr",
          "output_type": "stream",
          "text": [
            "123it [23:57, 11.77s/it]"
          ]
        },
        {
          "name": "stdout",
          "output_type": "stream",
          "text": [
            "6892\n"
          ]
        },
        {
          "name": "stderr",
          "output_type": "stream",
          "text": [
            "124it [24:09, 11.76s/it]"
          ]
        },
        {
          "name": "stdout",
          "output_type": "stream",
          "text": [
            "6948\n"
          ]
        },
        {
          "name": "stderr",
          "output_type": "stream",
          "text": [
            "125it [24:20, 11.72s/it]"
          ]
        },
        {
          "name": "stdout",
          "output_type": "stream",
          "text": [
            "7003\n"
          ]
        },
        {
          "name": "stderr",
          "output_type": "stream",
          "text": [
            "126it [24:32, 11.67s/it]"
          ]
        },
        {
          "name": "stdout",
          "output_type": "stream",
          "text": [
            "7058\n"
          ]
        },
        {
          "name": "stderr",
          "output_type": "stream",
          "text": [
            "127it [24:44, 11.72s/it]"
          ]
        },
        {
          "name": "stdout",
          "output_type": "stream",
          "text": [
            "7113\n"
          ]
        },
        {
          "name": "stderr",
          "output_type": "stream",
          "text": [
            "128it [24:55, 11.68s/it]"
          ]
        },
        {
          "name": "stdout",
          "output_type": "stream",
          "text": [
            "7169\n"
          ]
        },
        {
          "name": "stderr",
          "output_type": "stream",
          "text": [
            "129it [25:07, 11.62s/it]"
          ]
        },
        {
          "name": "stdout",
          "output_type": "stream",
          "text": [
            "7225\n"
          ]
        },
        {
          "name": "stderr",
          "output_type": "stream",
          "text": [
            "130it [25:19, 11.69s/it]"
          ]
        },
        {
          "name": "stdout",
          "output_type": "stream",
          "text": [
            "7281\n"
          ]
        },
        {
          "name": "stderr",
          "output_type": "stream",
          "text": [
            "131it [25:31, 11.78s/it]"
          ]
        },
        {
          "name": "stdout",
          "output_type": "stream",
          "text": [
            "7337\n"
          ]
        },
        {
          "name": "stderr",
          "output_type": "stream",
          "text": [
            "132it [25:42, 11.70s/it]"
          ]
        },
        {
          "name": "stdout",
          "output_type": "stream",
          "text": [
            "7392\n"
          ]
        },
        {
          "name": "stderr",
          "output_type": "stream",
          "text": [
            "133it [25:54, 11.70s/it]"
          ]
        },
        {
          "name": "stdout",
          "output_type": "stream",
          "text": [
            "7448\n"
          ]
        },
        {
          "name": "stderr",
          "output_type": "stream",
          "text": [
            "134it [26:06, 11.74s/it]"
          ]
        },
        {
          "name": "stdout",
          "output_type": "stream",
          "text": [
            "7504\n"
          ]
        },
        {
          "name": "stderr",
          "output_type": "stream",
          "text": [
            "135it [26:17, 11.65s/it]"
          ]
        },
        {
          "name": "stdout",
          "output_type": "stream",
          "text": [
            "7552\n"
          ]
        },
        {
          "name": "stderr",
          "output_type": "stream",
          "text": [
            "136it [26:29, 11.68s/it]"
          ]
        },
        {
          "name": "stdout",
          "output_type": "stream",
          "text": [
            "7608\n"
          ]
        },
        {
          "name": "stderr",
          "output_type": "stream",
          "text": [
            "137it [26:40, 11.60s/it]"
          ]
        },
        {
          "name": "stdout",
          "output_type": "stream",
          "text": [
            "7664\n"
          ]
        },
        {
          "name": "stderr",
          "output_type": "stream",
          "text": [
            "138it [26:52, 11.70s/it]"
          ]
        },
        {
          "name": "stdout",
          "output_type": "stream",
          "text": [
            "7720\n"
          ]
        },
        {
          "name": "stderr",
          "output_type": "stream",
          "text": [
            "139it [27:04, 11.66s/it]"
          ]
        },
        {
          "name": "stdout",
          "output_type": "stream",
          "text": [
            "7776\n"
          ]
        },
        {
          "name": "stderr",
          "output_type": "stream",
          "text": [
            "140it [27:15, 11.63s/it]"
          ]
        },
        {
          "name": "stdout",
          "output_type": "stream",
          "text": [
            "7831\n"
          ]
        },
        {
          "name": "stderr",
          "output_type": "stream",
          "text": [
            "141it [27:27, 11.58s/it]"
          ]
        },
        {
          "name": "stdout",
          "output_type": "stream",
          "text": [
            "7887\n"
          ]
        },
        {
          "name": "stderr",
          "output_type": "stream",
          "text": [
            "142it [27:38, 11.59s/it]"
          ]
        },
        {
          "name": "stdout",
          "output_type": "stream",
          "text": [
            "7943\n"
          ]
        },
        {
          "name": "stderr",
          "output_type": "stream",
          "text": [
            "143it [27:50, 11.66s/it]"
          ]
        },
        {
          "name": "stdout",
          "output_type": "stream",
          "text": [
            "7999\n"
          ]
        },
        {
          "name": "stderr",
          "output_type": "stream",
          "text": [
            "144it [28:02, 11.59s/it]"
          ]
        },
        {
          "name": "stdout",
          "output_type": "stream",
          "text": [
            "8055\n"
          ]
        },
        {
          "name": "stderr",
          "output_type": "stream",
          "text": [
            "145it [28:13, 11.56s/it]"
          ]
        },
        {
          "name": "stdout",
          "output_type": "stream",
          "text": [
            "8111\n"
          ]
        },
        {
          "name": "stderr",
          "output_type": "stream",
          "text": [
            "146it [28:25, 11.52s/it]"
          ]
        },
        {
          "name": "stdout",
          "output_type": "stream",
          "text": [
            "8167\n"
          ]
        },
        {
          "name": "stderr",
          "output_type": "stream",
          "text": [
            "147it [28:36, 11.55s/it]"
          ]
        },
        {
          "name": "stdout",
          "output_type": "stream",
          "text": [
            "8223\n"
          ]
        },
        {
          "name": "stderr",
          "output_type": "stream",
          "text": [
            "148it [28:48, 11.51s/it]"
          ]
        },
        {
          "name": "stdout",
          "output_type": "stream",
          "text": [
            "8279\n"
          ]
        },
        {
          "name": "stderr",
          "output_type": "stream",
          "text": [
            "149it [28:59, 11.44s/it]"
          ]
        },
        {
          "name": "stdout",
          "output_type": "stream",
          "text": [
            "8335\n"
          ]
        },
        {
          "name": "stderr",
          "output_type": "stream",
          "text": [
            "150it [29:11, 11.52s/it]"
          ]
        },
        {
          "name": "stdout",
          "output_type": "stream",
          "text": [
            "8391\n"
          ]
        },
        {
          "name": "stderr",
          "output_type": "stream",
          "text": [
            "151it [29:23, 11.69s/it]"
          ]
        },
        {
          "name": "stdout",
          "output_type": "stream",
          "text": [
            "8447\n"
          ]
        },
        {
          "name": "stderr",
          "output_type": "stream",
          "text": [
            "152it [29:34, 11.65s/it]"
          ]
        },
        {
          "name": "stdout",
          "output_type": "stream",
          "text": [
            "8503\n"
          ]
        },
        {
          "name": "stderr",
          "output_type": "stream",
          "text": [
            "153it [29:46, 11.72s/it]"
          ]
        },
        {
          "name": "stdout",
          "output_type": "stream",
          "text": [
            "8556\n"
          ]
        },
        {
          "name": "stderr",
          "output_type": "stream",
          "text": [
            "154it [29:58, 11.65s/it]"
          ]
        },
        {
          "name": "stdout",
          "output_type": "stream",
          "text": [
            "8612\n"
          ]
        },
        {
          "name": "stderr",
          "output_type": "stream",
          "text": [
            "155it [30:09, 11.63s/it]"
          ]
        },
        {
          "name": "stdout",
          "output_type": "stream",
          "text": [
            "8668\n"
          ]
        },
        {
          "name": "stderr",
          "output_type": "stream",
          "text": [
            "156it [30:21, 11.73s/it]"
          ]
        },
        {
          "name": "stdout",
          "output_type": "stream",
          "text": [
            "8724\n"
          ]
        },
        {
          "name": "stderr",
          "output_type": "stream",
          "text": [
            "157it [30:33, 11.68s/it]"
          ]
        },
        {
          "name": "stdout",
          "output_type": "stream",
          "text": [
            "8780\n"
          ]
        },
        {
          "name": "stderr",
          "output_type": "stream",
          "text": [
            "158it [30:44, 11.64s/it]"
          ]
        },
        {
          "name": "stdout",
          "output_type": "stream",
          "text": [
            "8836\n"
          ]
        },
        {
          "name": "stderr",
          "output_type": "stream",
          "text": [
            "159it [30:56, 11.63s/it]"
          ]
        },
        {
          "name": "stdout",
          "output_type": "stream",
          "text": [
            "8892\n"
          ]
        },
        {
          "name": "stderr",
          "output_type": "stream",
          "text": [
            "160it [31:08, 11.71s/it]"
          ]
        },
        {
          "name": "stdout",
          "output_type": "stream",
          "text": [
            "8948\n"
          ]
        },
        {
          "name": "stderr",
          "output_type": "stream",
          "text": [
            "161it [31:19, 11.72s/it]"
          ]
        },
        {
          "name": "stdout",
          "output_type": "stream",
          "text": [
            "9003\n"
          ]
        },
        {
          "name": "stderr",
          "output_type": "stream",
          "text": [
            "162it [31:31, 11.66s/it]"
          ]
        },
        {
          "name": "stdout",
          "output_type": "stream",
          "text": [
            "9059\n"
          ]
        },
        {
          "name": "stderr",
          "output_type": "stream",
          "text": [
            "163it [31:43, 11.78s/it]"
          ]
        },
        {
          "name": "stdout",
          "output_type": "stream",
          "text": [
            "9114\n"
          ]
        },
        {
          "name": "stderr",
          "output_type": "stream",
          "text": [
            "164it [31:55, 11.71s/it]"
          ]
        },
        {
          "name": "stdout",
          "output_type": "stream",
          "text": [
            "9169\n"
          ]
        },
        {
          "name": "stderr",
          "output_type": "stream",
          "text": [
            "165it [32:06, 11.65s/it]"
          ]
        },
        {
          "name": "stdout",
          "output_type": "stream",
          "text": [
            "9225\n"
          ]
        },
        {
          "name": "stderr",
          "output_type": "stream",
          "text": [
            "166it [32:18, 11.74s/it]"
          ]
        },
        {
          "name": "stdout",
          "output_type": "stream",
          "text": [
            "9281\n"
          ]
        },
        {
          "name": "stderr",
          "output_type": "stream",
          "text": [
            "167it [32:30, 11.77s/it]"
          ]
        },
        {
          "name": "stdout",
          "output_type": "stream",
          "text": [
            "9337\n"
          ]
        },
        {
          "name": "stderr",
          "output_type": "stream",
          "text": [
            "168it [32:42, 11.78s/it]"
          ]
        },
        {
          "name": "stdout",
          "output_type": "stream",
          "text": [
            "9391\n"
          ]
        },
        {
          "name": "stderr",
          "output_type": "stream",
          "text": [
            "169it [32:54, 11.79s/it]"
          ]
        },
        {
          "name": "stdout",
          "output_type": "stream",
          "text": [
            "9446\n"
          ]
        },
        {
          "name": "stderr",
          "output_type": "stream",
          "text": [
            "170it [33:06, 12.01s/it]"
          ]
        },
        {
          "name": "stdout",
          "output_type": "stream",
          "text": [
            "9502\n"
          ]
        },
        {
          "name": "stderr",
          "output_type": "stream",
          "text": [
            "171it [33:19, 12.17s/it]"
          ]
        },
        {
          "name": "stdout",
          "output_type": "stream",
          "text": [
            "9558\n"
          ]
        },
        {
          "name": "stderr",
          "output_type": "stream",
          "text": [
            "172it [33:30, 12.02s/it]"
          ]
        },
        {
          "name": "stdout",
          "output_type": "stream",
          "text": [
            "9614\n"
          ]
        },
        {
          "name": "stderr",
          "output_type": "stream",
          "text": [
            "173it [33:42, 11.99s/it]"
          ]
        },
        {
          "name": "stdout",
          "output_type": "stream",
          "text": [
            "9668\n"
          ]
        },
        {
          "name": "stderr",
          "output_type": "stream",
          "text": [
            "174it [33:54, 11.95s/it]"
          ]
        },
        {
          "name": "stdout",
          "output_type": "stream",
          "text": [
            "9723\n"
          ]
        },
        {
          "name": "stderr",
          "output_type": "stream",
          "text": [
            "175it [34:06, 11.91s/it]"
          ]
        },
        {
          "name": "stdout",
          "output_type": "stream",
          "text": [
            "9779\n"
          ]
        },
        {
          "name": "stderr",
          "output_type": "stream",
          "text": [
            "176it [34:17, 11.82s/it]"
          ]
        },
        {
          "name": "stdout",
          "output_type": "stream",
          "text": [
            "9835\n"
          ]
        },
        {
          "name": "stderr",
          "output_type": "stream",
          "text": [
            "177it [34:29, 11.76s/it]"
          ]
        },
        {
          "name": "stdout",
          "output_type": "stream",
          "text": [
            "9890\n"
          ]
        },
        {
          "name": "stderr",
          "output_type": "stream",
          "text": [
            "178it [34:41, 11.73s/it]"
          ]
        },
        {
          "name": "stdout",
          "output_type": "stream",
          "text": [
            "9946\n"
          ]
        },
        {
          "name": "stderr",
          "output_type": "stream",
          "text": [
            "179it [34:52, 11.66s/it]"
          ]
        },
        {
          "name": "stdout",
          "output_type": "stream",
          "text": [
            "10002\n"
          ]
        },
        {
          "name": "stderr",
          "output_type": "stream",
          "text": [
            "180it [35:04, 11.81s/it]"
          ]
        },
        {
          "name": "stdout",
          "output_type": "stream",
          "text": [
            "10058\n"
          ]
        },
        {
          "name": "stderr",
          "output_type": "stream",
          "text": [
            "181it [35:16, 11.72s/it]"
          ]
        },
        {
          "name": "stdout",
          "output_type": "stream",
          "text": [
            "10114\n"
          ]
        },
        {
          "name": "stderr",
          "output_type": "stream",
          "text": [
            "182it [35:28, 11.68s/it]"
          ]
        },
        {
          "name": "stdout",
          "output_type": "stream",
          "text": [
            "10170\n"
          ]
        },
        {
          "name": "stderr",
          "output_type": "stream",
          "text": [
            "183it [35:39, 11.63s/it]"
          ]
        },
        {
          "name": "stdout",
          "output_type": "stream",
          "text": [
            "10225\n"
          ]
        },
        {
          "name": "stderr",
          "output_type": "stream",
          "text": [
            "184it [35:51, 11.63s/it]"
          ]
        },
        {
          "name": "stdout",
          "output_type": "stream",
          "text": [
            "10281\n"
          ]
        },
        {
          "name": "stderr",
          "output_type": "stream",
          "text": [
            "185it [36:02, 11.57s/it]"
          ]
        },
        {
          "name": "stdout",
          "output_type": "stream",
          "text": [
            "10337\n"
          ]
        },
        {
          "name": "stderr",
          "output_type": "stream",
          "text": [
            "186it [36:14, 11.56s/it]"
          ]
        },
        {
          "name": "stdout",
          "output_type": "stream",
          "text": [
            "10393\n"
          ]
        },
        {
          "name": "stderr",
          "output_type": "stream",
          "text": [
            "187it [36:25, 11.58s/it]"
          ]
        },
        {
          "name": "stdout",
          "output_type": "stream",
          "text": [
            "10449\n"
          ]
        },
        {
          "name": "stderr",
          "output_type": "stream",
          "text": [
            "188it [36:37, 11.67s/it]"
          ]
        },
        {
          "name": "stdout",
          "output_type": "stream",
          "text": [
            "10505\n"
          ]
        },
        {
          "name": "stderr",
          "output_type": "stream",
          "text": [
            "189it [36:49, 11.84s/it]"
          ]
        },
        {
          "name": "stdout",
          "output_type": "stream",
          "text": [
            "10559\n"
          ]
        },
        {
          "name": "stderr",
          "output_type": "stream",
          "text": [
            "190it [37:01, 11.85s/it]"
          ]
        },
        {
          "name": "stdout",
          "output_type": "stream",
          "text": [
            "10614\n"
          ]
        },
        {
          "name": "stderr",
          "output_type": "stream",
          "text": [
            "191it [37:13, 11.84s/it]"
          ]
        },
        {
          "name": "stdout",
          "output_type": "stream",
          "text": [
            "10670\n"
          ]
        },
        {
          "name": "stderr",
          "output_type": "stream",
          "text": [
            "192it [37:25, 11.85s/it]"
          ]
        },
        {
          "name": "stdout",
          "output_type": "stream",
          "text": [
            "10726\n"
          ]
        },
        {
          "name": "stderr",
          "output_type": "stream",
          "text": [
            "193it [37:37, 11.79s/it]"
          ]
        },
        {
          "name": "stdout",
          "output_type": "stream",
          "text": [
            "10781\n"
          ]
        },
        {
          "name": "stderr",
          "output_type": "stream",
          "text": [
            "194it [37:48, 11.76s/it]"
          ]
        },
        {
          "name": "stdout",
          "output_type": "stream",
          "text": [
            "10837\n"
          ]
        },
        {
          "name": "stderr",
          "output_type": "stream",
          "text": [
            "195it [38:00, 11.78s/it]"
          ]
        },
        {
          "name": "stdout",
          "output_type": "stream",
          "text": [
            "10891\n"
          ]
        },
        {
          "name": "stderr",
          "output_type": "stream",
          "text": [
            "196it [38:12, 11.71s/it]"
          ]
        },
        {
          "name": "stdout",
          "output_type": "stream",
          "text": [
            "10947\n"
          ]
        },
        {
          "name": "stderr",
          "output_type": "stream",
          "text": [
            "197it [38:23, 11.69s/it]\n"
          ]
        },
        {
          "data": {
            "text/html": [
              "<div>\n",
              "<style scoped>\n",
              "    .dataframe tbody tr th:only-of-type {\n",
              "        vertical-align: middle;\n",
              "    }\n",
              "\n",
              "    .dataframe tbody tr th {\n",
              "        vertical-align: top;\n",
              "    }\n",
              "\n",
              "    .dataframe thead th {\n",
              "        text-align: right;\n",
              "    }\n",
              "</style>\n",
              "<table border=\"1\" class=\"dataframe\">\n",
              "  <thead>\n",
              "    <tr style=\"text-align: right;\">\n",
              "      <th></th>\n",
              "      <th>user</th>\n",
              "      <th>movie</th>\n",
              "      <th>movie_ID</th>\n",
              "      <th>rating</th>\n",
              "    </tr>\n",
              "  </thead>\n",
              "  <tbody>\n",
              "    <tr>\n",
              "      <th>0</th>\n",
              "      <td>WwRqopwVyvlzB</td>\n",
              "      <td>해리포터와 죽음의 성물 1</td>\n",
              "      <td>https://pedia.watcha.com/ko-KR/contents/m5ZXwL...</td>\n",
              "      <td>3.5</td>\n",
              "    </tr>\n",
              "    <tr>\n",
              "      <th>1</th>\n",
              "      <td>87Gv7eQBjxE6o</td>\n",
              "      <td>해리포터와 죽음의 성물 1</td>\n",
              "      <td>https://pedia.watcha.com/ko-KR/contents/m5ZXwL...</td>\n",
              "      <td>4.0</td>\n",
              "    </tr>\n",
              "    <tr>\n",
              "      <th>2</th>\n",
              "      <td>DgwxAeQYNxrMj</td>\n",
              "      <td>해리포터와 죽음의 성물 1</td>\n",
              "      <td>https://pedia.watcha.com/ko-KR/contents/m5ZXwL...</td>\n",
              "      <td>3.0</td>\n",
              "    </tr>\n",
              "    <tr>\n",
              "      <th>3</th>\n",
              "      <td>nkPvrJ84Dvgar</td>\n",
              "      <td>해리포터와 죽음의 성물 1</td>\n",
              "      <td>https://pedia.watcha.com/ko-KR/contents/m5ZXwL...</td>\n",
              "      <td>5.0</td>\n",
              "    </tr>\n",
              "    <tr>\n",
              "      <th>4</th>\n",
              "      <td>Qgy51MPlQ5Djk</td>\n",
              "      <td>해리포터와 죽음의 성물 1</td>\n",
              "      <td>https://pedia.watcha.com/ko-KR/contents/m5ZXwL...</td>\n",
              "      <td>4.0</td>\n",
              "    </tr>\n",
              "    <tr>\n",
              "      <th>...</th>\n",
              "      <td>...</td>\n",
              "      <td>...</td>\n",
              "      <td>...</td>\n",
              "      <td>...</td>\n",
              "    </tr>\n",
              "    <tr>\n",
              "      <th>10942</th>\n",
              "      <td>JgAx89MRDqLbO</td>\n",
              "      <td>블라인드</td>\n",
              "      <td>https://pedia.watcha.com/ko-KR/contents/m5e77o...</td>\n",
              "      <td>3.0</td>\n",
              "    </tr>\n",
              "    <tr>\n",
              "      <th>10943</th>\n",
              "      <td>nkPvrQAPJqgar</td>\n",
              "      <td>블라인드</td>\n",
              "      <td>https://pedia.watcha.com/ko-KR/contents/m5e77o...</td>\n",
              "      <td>3.0</td>\n",
              "    </tr>\n",
              "    <tr>\n",
              "      <th>10944</th>\n",
              "      <td>a9L5PwKN2vwg8</td>\n",
              "      <td>블라인드</td>\n",
              "      <td>https://pedia.watcha.com/ko-KR/contents/m5e77o...</td>\n",
              "      <td>3.0</td>\n",
              "    </tr>\n",
              "    <tr>\n",
              "      <th>10945</th>\n",
              "      <td>24BqEMAnOqrjn</td>\n",
              "      <td>블라인드</td>\n",
              "      <td>https://pedia.watcha.com/ko-KR/contents/m5e77o...</td>\n",
              "      <td>3.0</td>\n",
              "    </tr>\n",
              "    <tr>\n",
              "      <th>10946</th>\n",
              "      <td>nkPvrnNdlvgar</td>\n",
              "      <td>블라인드</td>\n",
              "      <td>https://pedia.watcha.com/ko-KR/contents/m5e77o...</td>\n",
              "      <td>2.5</td>\n",
              "    </tr>\n",
              "  </tbody>\n",
              "</table>\n",
              "<p>10947 rows × 4 columns</p>\n",
              "</div>"
            ],
            "text/plain": [
              "                user           movie  \\\n",
              "0      WwRqopwVyvlzB  해리포터와 죽음의 성물 1   \n",
              "1      87Gv7eQBjxE6o  해리포터와 죽음의 성물 1   \n",
              "2      DgwxAeQYNxrMj  해리포터와 죽음의 성물 1   \n",
              "3      nkPvrJ84Dvgar  해리포터와 죽음의 성물 1   \n",
              "4      Qgy51MPlQ5Djk  해리포터와 죽음의 성물 1   \n",
              "...              ...             ...   \n",
              "10942  JgAx89MRDqLbO            블라인드   \n",
              "10943  nkPvrQAPJqgar            블라인드   \n",
              "10944  a9L5PwKN2vwg8            블라인드   \n",
              "10945  24BqEMAnOqrjn            블라인드   \n",
              "10946  nkPvrnNdlvgar            블라인드   \n",
              "\n",
              "                                                movie_ID rating  \n",
              "0      https://pedia.watcha.com/ko-KR/contents/m5ZXwL...    3.5  \n",
              "1      https://pedia.watcha.com/ko-KR/contents/m5ZXwL...    4.0  \n",
              "2      https://pedia.watcha.com/ko-KR/contents/m5ZXwL...    3.0  \n",
              "3      https://pedia.watcha.com/ko-KR/contents/m5ZXwL...    5.0  \n",
              "4      https://pedia.watcha.com/ko-KR/contents/m5ZXwL...    4.0  \n",
              "...                                                  ...    ...  \n",
              "10942  https://pedia.watcha.com/ko-KR/contents/m5e77o...    3.0  \n",
              "10943  https://pedia.watcha.com/ko-KR/contents/m5e77o...    3.0  \n",
              "10944  https://pedia.watcha.com/ko-KR/contents/m5e77o...    3.0  \n",
              "10945  https://pedia.watcha.com/ko-KR/contents/m5e77o...    3.0  \n",
              "10946  https://pedia.watcha.com/ko-KR/contents/m5e77o...    2.5  \n",
              "\n",
              "[10947 rows x 4 columns]"
            ]
          },
          "execution_count": 924,
          "metadata": {},
          "output_type": "execute_result"
        }
      ],
      "source": [
        "# 영화 평점 크롤링\n",
        "movie_rating = pd.DataFrame()\n",
        "\n",
        "for title, ID in tqdm(zip(movie_name[300:], movie_ID[300:])):\n",
        "    driver.get(ID) # 영화 페이지 접속\n",
        "    time.sleep(2)\n",
        "\n",
        "    # 스크롤 다운\n",
        "    body = driver.find_element('css selector', 'body')\n",
        "    for rep in range(7):\n",
        "        body.send_keys(Keys.END)\n",
        "        time.sleep(1)\n",
        "\n",
        "    # 소스코드 BeautifulSoup에 입력하기\n",
        "    html = driver.page_source\n",
        "    soup = BeautifulSoup(html, 'lxml')\n",
        "\n",
        "    # 사용자ID, 평점 수집 => 평점을 안매긴 사용자는 패스\n",
        "    div_list = soup.find_all('div', {'class':'css-4obf01'})\n",
        "    div_rating = list(map(lambda x: x.find('div', {'class':'css-yqs4xl'}), div_list))\n",
        "    del_idx = -1\n",
        "\n",
        "    if None in div_rating:\n",
        "        del_idx = [i for i,j in enumerate(div_rating) if j == None]\n",
        "        for idx in del_idx[::-1]:\n",
        "            del div_rating[idx]\n",
        "\n",
        "    if del_idx != -1:\n",
        "        for idx in del_idx[::-1]:\n",
        "            del div_list[idx]\n",
        "\n",
        "    rating = list(map(lambda x:x.find('span').text, div_rating))\n",
        "    user_list = list(map(lambda x: x.find('a', {'class': 'css-1f9m1s4-StylelessLocalLink eovgsd01'}).get('href'), div_list))\n",
        "    user_ID = list(map(lambda x: x.split('/')[-1], user_list))\n",
        "\n",
        "    # 데이터프레임 저장\n",
        "    temp = pd.DataFrame()\n",
        "    temp['user'] = user_ID\n",
        "    temp['movie'] = title\n",
        "    temp['movie_ID'] = ID\n",
        "    temp['rating'] = rating\n",
        "    movie_rating = pd.concat([movie_rating, temp])\n",
        "    print(len(movie_rating))\n",
        "    time.sleep(1)\n",
        "\n",
        "movie_rating.reset_index(drop=True, inplace=True)\n",
        "movie_rating"
      ]
    },
    {
      "cell_type": "code",
      "execution_count": null,
      "id": "a7ec6d7f",
      "metadata": {
        "id": "a7ec6d7f",
        "outputId": "7b0a67cf-940c-49a4-8856-c9188afbeebb"
      },
      "outputs": [
        {
          "data": {
            "text/html": [
              "<div>\n",
              "<style scoped>\n",
              "    .dataframe tbody tr th:only-of-type {\n",
              "        vertical-align: middle;\n",
              "    }\n",
              "\n",
              "    .dataframe tbody tr th {\n",
              "        vertical-align: top;\n",
              "    }\n",
              "\n",
              "    .dataframe thead th {\n",
              "        text-align: right;\n",
              "    }\n",
              "</style>\n",
              "<table border=\"1\" class=\"dataframe\">\n",
              "  <thead>\n",
              "    <tr style=\"text-align: right;\">\n",
              "      <th></th>\n",
              "      <th>user</th>\n",
              "      <th>movie</th>\n",
              "      <th>movie_ID</th>\n",
              "      <th>rating</th>\n",
              "    </tr>\n",
              "  </thead>\n",
              "  <tbody>\n",
              "    <tr>\n",
              "      <th>0</th>\n",
              "      <td>WwRqopwVyvlzB</td>\n",
              "      <td>해리포터와 죽음의 성물 1</td>\n",
              "      <td>https://pedia.watcha.com/ko-KR/contents/m5ZXwL...</td>\n",
              "      <td>3.5</td>\n",
              "    </tr>\n",
              "    <tr>\n",
              "      <th>1</th>\n",
              "      <td>87Gv7eQBjxE6o</td>\n",
              "      <td>해리포터와 죽음의 성물 1</td>\n",
              "      <td>https://pedia.watcha.com/ko-KR/contents/m5ZXwL...</td>\n",
              "      <td>4.0</td>\n",
              "    </tr>\n",
              "    <tr>\n",
              "      <th>2</th>\n",
              "      <td>DgwxAeQYNxrMj</td>\n",
              "      <td>해리포터와 죽음의 성물 1</td>\n",
              "      <td>https://pedia.watcha.com/ko-KR/contents/m5ZXwL...</td>\n",
              "      <td>3.0</td>\n",
              "    </tr>\n",
              "    <tr>\n",
              "      <th>3</th>\n",
              "      <td>nkPvrJ84Dvgar</td>\n",
              "      <td>해리포터와 죽음의 성물 1</td>\n",
              "      <td>https://pedia.watcha.com/ko-KR/contents/m5ZXwL...</td>\n",
              "      <td>5.0</td>\n",
              "    </tr>\n",
              "    <tr>\n",
              "      <th>4</th>\n",
              "      <td>Qgy51MPlQ5Djk</td>\n",
              "      <td>해리포터와 죽음의 성물 1</td>\n",
              "      <td>https://pedia.watcha.com/ko-KR/contents/m5ZXwL...</td>\n",
              "      <td>4.0</td>\n",
              "    </tr>\n",
              "    <tr>\n",
              "      <th>...</th>\n",
              "      <td>...</td>\n",
              "      <td>...</td>\n",
              "      <td>...</td>\n",
              "      <td>...</td>\n",
              "    </tr>\n",
              "    <tr>\n",
              "      <th>10942</th>\n",
              "      <td>JgAx89MRDqLbO</td>\n",
              "      <td>블라인드</td>\n",
              "      <td>https://pedia.watcha.com/ko-KR/contents/m5e77o...</td>\n",
              "      <td>3.0</td>\n",
              "    </tr>\n",
              "    <tr>\n",
              "      <th>10943</th>\n",
              "      <td>nkPvrQAPJqgar</td>\n",
              "      <td>블라인드</td>\n",
              "      <td>https://pedia.watcha.com/ko-KR/contents/m5e77o...</td>\n",
              "      <td>3.0</td>\n",
              "    </tr>\n",
              "    <tr>\n",
              "      <th>10944</th>\n",
              "      <td>a9L5PwKN2vwg8</td>\n",
              "      <td>블라인드</td>\n",
              "      <td>https://pedia.watcha.com/ko-KR/contents/m5e77o...</td>\n",
              "      <td>3.0</td>\n",
              "    </tr>\n",
              "    <tr>\n",
              "      <th>10945</th>\n",
              "      <td>24BqEMAnOqrjn</td>\n",
              "      <td>블라인드</td>\n",
              "      <td>https://pedia.watcha.com/ko-KR/contents/m5e77o...</td>\n",
              "      <td>3.0</td>\n",
              "    </tr>\n",
              "    <tr>\n",
              "      <th>10946</th>\n",
              "      <td>nkPvrnNdlvgar</td>\n",
              "      <td>블라인드</td>\n",
              "      <td>https://pedia.watcha.com/ko-KR/contents/m5e77o...</td>\n",
              "      <td>2.5</td>\n",
              "    </tr>\n",
              "  </tbody>\n",
              "</table>\n",
              "<p>10947 rows × 4 columns</p>\n",
              "</div>"
            ],
            "text/plain": [
              "                user           movie  \\\n",
              "0      WwRqopwVyvlzB  해리포터와 죽음의 성물 1   \n",
              "1      87Gv7eQBjxE6o  해리포터와 죽음의 성물 1   \n",
              "2      DgwxAeQYNxrMj  해리포터와 죽음의 성물 1   \n",
              "3      nkPvrJ84Dvgar  해리포터와 죽음의 성물 1   \n",
              "4      Qgy51MPlQ5Djk  해리포터와 죽음의 성물 1   \n",
              "...              ...             ...   \n",
              "10942  JgAx89MRDqLbO            블라인드   \n",
              "10943  nkPvrQAPJqgar            블라인드   \n",
              "10944  a9L5PwKN2vwg8            블라인드   \n",
              "10945  24BqEMAnOqrjn            블라인드   \n",
              "10946  nkPvrnNdlvgar            블라인드   \n",
              "\n",
              "                                                movie_ID rating  \n",
              "0      https://pedia.watcha.com/ko-KR/contents/m5ZXwL...    3.5  \n",
              "1      https://pedia.watcha.com/ko-KR/contents/m5ZXwL...    4.0  \n",
              "2      https://pedia.watcha.com/ko-KR/contents/m5ZXwL...    3.0  \n",
              "3      https://pedia.watcha.com/ko-KR/contents/m5ZXwL...    5.0  \n",
              "4      https://pedia.watcha.com/ko-KR/contents/m5ZXwL...    4.0  \n",
              "...                                                  ...    ...  \n",
              "10942  https://pedia.watcha.com/ko-KR/contents/m5e77o...    3.0  \n",
              "10943  https://pedia.watcha.com/ko-KR/contents/m5e77o...    3.0  \n",
              "10944  https://pedia.watcha.com/ko-KR/contents/m5e77o...    3.0  \n",
              "10945  https://pedia.watcha.com/ko-KR/contents/m5e77o...    3.0  \n",
              "10946  https://pedia.watcha.com/ko-KR/contents/m5e77o...    2.5  \n",
              "\n",
              "[10947 rows x 4 columns]"
            ]
          },
          "execution_count": 938,
          "metadata": {},
          "output_type": "execute_result"
        }
      ],
      "source": [
        "movie_rating"
      ]
    },
    {
      "cell_type": "code",
      "execution_count": null,
      "id": "9c2299d0",
      "metadata": {
        "id": "9c2299d0"
      },
      "outputs": [],
      "source": [
        "# movie_ratings = pd.DataFrame()"
      ]
    },
    {
      "cell_type": "code",
      "execution_count": null,
      "id": "78038bbc",
      "metadata": {
        "id": "78038bbc"
      },
      "outputs": [],
      "source": [
        "movie_ratings = pd.concat([movie_ratings, movie_rating])\n",
        "movie_ratings.reset_index(drop=True, inplace=True)"
      ]
    },
    {
      "cell_type": "code",
      "execution_count": null,
      "id": "c83dc6b2",
      "metadata": {
        "id": "c83dc6b2"
      },
      "outputs": [],
      "source": [
        "movie_ratings['movie_ID'] = movie_ratings['movie_ID'].map(lambda x: x.split('/')[-2])"
      ]
    },
    {
      "cell_type": "code",
      "execution_count": null,
      "id": "ed1b2997",
      "metadata": {
        "id": "ed1b2997",
        "outputId": "fc18379c-c819-4304-e154-0a2396860ce7"
      },
      "outputs": [
        {
          "data": {
            "text/html": [
              "<div>\n",
              "<style scoped>\n",
              "    .dataframe tbody tr th:only-of-type {\n",
              "        vertical-align: middle;\n",
              "    }\n",
              "\n",
              "    .dataframe tbody tr th {\n",
              "        vertical-align: top;\n",
              "    }\n",
              "\n",
              "    .dataframe thead th {\n",
              "        text-align: right;\n",
              "    }\n",
              "</style>\n",
              "<table border=\"1\" class=\"dataframe\">\n",
              "  <thead>\n",
              "    <tr style=\"text-align: right;\">\n",
              "      <th></th>\n",
              "      <th>user</th>\n",
              "      <th>movie</th>\n",
              "      <th>movie_ID</th>\n",
              "      <th>rating</th>\n",
              "    </tr>\n",
              "  </thead>\n",
              "  <tbody>\n",
              "    <tr>\n",
              "      <th>0</th>\n",
              "      <td>Pznx9j3wJq761</td>\n",
              "      <td>명량</td>\n",
              "      <td>mWzM9D5</td>\n",
              "      <td>2.0</td>\n",
              "    </tr>\n",
              "    <tr>\n",
              "      <th>1</th>\n",
              "      <td>8nPvyyWmovYo0</td>\n",
              "      <td>명량</td>\n",
              "      <td>mWzM9D5</td>\n",
              "      <td>1.0</td>\n",
              "    </tr>\n",
              "    <tr>\n",
              "      <th>2</th>\n",
              "      <td>DgwxAeQYNxrMj</td>\n",
              "      <td>명량</td>\n",
              "      <td>mWzM9D5</td>\n",
              "      <td>2.5</td>\n",
              "    </tr>\n",
              "    <tr>\n",
              "      <th>3</th>\n",
              "      <td>zNM5NrKAQ526j</td>\n",
              "      <td>명량</td>\n",
              "      <td>mWzM9D5</td>\n",
              "      <td>2.0</td>\n",
              "    </tr>\n",
              "    <tr>\n",
              "      <th>4</th>\n",
              "      <td>JgAx8QgkOqLbO</td>\n",
              "      <td>명량</td>\n",
              "      <td>mWzM9D5</td>\n",
              "      <td>1.5</td>\n",
              "    </tr>\n",
              "    <tr>\n",
              "      <th>...</th>\n",
              "      <td>...</td>\n",
              "      <td>...</td>\n",
              "      <td>...</td>\n",
              "      <td>...</td>\n",
              "    </tr>\n",
              "    <tr>\n",
              "      <th>27554</th>\n",
              "      <td>JgAx89MRDqLbO</td>\n",
              "      <td>블라인드</td>\n",
              "      <td>m5e77oO</td>\n",
              "      <td>3.0</td>\n",
              "    </tr>\n",
              "    <tr>\n",
              "      <th>27555</th>\n",
              "      <td>nkPvrQAPJqgar</td>\n",
              "      <td>블라인드</td>\n",
              "      <td>m5e77oO</td>\n",
              "      <td>3.0</td>\n",
              "    </tr>\n",
              "    <tr>\n",
              "      <th>27556</th>\n",
              "      <td>a9L5PwKN2vwg8</td>\n",
              "      <td>블라인드</td>\n",
              "      <td>m5e77oO</td>\n",
              "      <td>3.0</td>\n",
              "    </tr>\n",
              "    <tr>\n",
              "      <th>27557</th>\n",
              "      <td>24BqEMAnOqrjn</td>\n",
              "      <td>블라인드</td>\n",
              "      <td>m5e77oO</td>\n",
              "      <td>3.0</td>\n",
              "    </tr>\n",
              "    <tr>\n",
              "      <th>27558</th>\n",
              "      <td>nkPvrnNdlvgar</td>\n",
              "      <td>블라인드</td>\n",
              "      <td>m5e77oO</td>\n",
              "      <td>2.5</td>\n",
              "    </tr>\n",
              "  </tbody>\n",
              "</table>\n",
              "<p>27559 rows × 4 columns</p>\n",
              "</div>"
            ],
            "text/plain": [
              "                user movie movie_ID rating\n",
              "0      Pznx9j3wJq761    명량  mWzM9D5    2.0\n",
              "1      8nPvyyWmovYo0    명량  mWzM9D5    1.0\n",
              "2      DgwxAeQYNxrMj    명량  mWzM9D5    2.5\n",
              "3      zNM5NrKAQ526j    명량  mWzM9D5    2.0\n",
              "4      JgAx8QgkOqLbO    명량  mWzM9D5    1.5\n",
              "...              ...   ...      ...    ...\n",
              "27554  JgAx89MRDqLbO  블라인드  m5e77oO    3.0\n",
              "27555  nkPvrQAPJqgar  블라인드  m5e77oO    3.0\n",
              "27556  a9L5PwKN2vwg8  블라인드  m5e77oO    3.0\n",
              "27557  24BqEMAnOqrjn  블라인드  m5e77oO    3.0\n",
              "27558  nkPvrnNdlvgar  블라인드  m5e77oO    2.5\n",
              "\n",
              "[27559 rows x 4 columns]"
            ]
          },
          "execution_count": 951,
          "metadata": {},
          "output_type": "execute_result"
        }
      ],
      "source": [
        "movie_ratings"
      ]
    },
    {
      "cell_type": "code",
      "execution_count": null,
      "id": "03a1f63c",
      "metadata": {
        "id": "03a1f63c",
        "outputId": "1adbd32f-bd11-4ee5-e156-84e66b418fe3"
      },
      "outputs": [
        {
          "data": {
            "text/plain": [
              "497"
            ]
          },
          "execution_count": 950,
          "metadata": {},
          "output_type": "execute_result"
        }
      ],
      "source": [
        "len(movie_ratings['movie_ID'].unique())"
      ]
    },
    {
      "cell_type": "code",
      "execution_count": null,
      "id": "41746064",
      "metadata": {
        "id": "41746064"
      },
      "outputs": [],
      "source": [
        "movie_ratings.to_csv('왓챠피디아 영화 평점.csv', index=False)"
      ]
    },
    {
      "cell_type": "code",
      "execution_count": null,
      "id": "ae7d2950",
      "metadata": {
        "id": "ae7d2950"
      },
      "outputs": [],
      "source": []
    },
    {
      "cell_type": "markdown",
      "id": "50da1d60",
      "metadata": {
        "id": "50da1d60"
      },
      "source": [
        "## 책 정보 크롤링"
      ]
    },
    {
      "cell_type": "code",
      "execution_count": null,
      "id": "e4f4d839",
      "metadata": {
        "id": "e4f4d839",
        "outputId": "a4299037-1668-4476-d362-ab59aea2cf1a"
      },
      "outputs": [
        {
          "data": {
            "text/plain": [
              "5583"
            ]
          },
          "execution_count": 958,
          "metadata": {},
          "output_type": "execute_result"
        }
      ],
      "source": [
        "user_ID = list(movie_ratings['user'].unique())\n",
        "len(user_ID)"
      ]
    },
    {
      "cell_type": "code",
      "execution_count": null,
      "id": "f501bdb8",
      "metadata": {
        "scrolled": true,
        "id": "f501bdb8",
        "outputId": "7620e0cc-af73-4ae1-d961-18dc8cdeaca1"
      },
      "outputs": [
        {
          "name": "stderr",
          "output_type": "stream",
          "text": [
            "100%|███████████████████████████████████████████████████████████████████████████| 5583/5583 [10:30:47<00:00,  6.78s/it]\n"
          ]
        },
        {
          "data": {
            "text/html": [
              "<div>\n",
              "<style scoped>\n",
              "    .dataframe tbody tr th:only-of-type {\n",
              "        vertical-align: middle;\n",
              "    }\n",
              "\n",
              "    .dataframe tbody tr th {\n",
              "        vertical-align: top;\n",
              "    }\n",
              "\n",
              "    .dataframe thead th {\n",
              "        text-align: right;\n",
              "    }\n",
              "</style>\n",
              "<table border=\"1\" class=\"dataframe\">\n",
              "  <thead>\n",
              "    <tr style=\"text-align: right;\">\n",
              "      <th></th>\n",
              "      <th>user</th>\n",
              "      <th>book</th>\n",
              "      <th>book_ID</th>\n",
              "      <th>rating</th>\n",
              "    </tr>\n",
              "  </thead>\n",
              "  <tbody>\n",
              "    <tr>\n",
              "      <th>0</th>\n",
              "      <td>8nPvyyWmovYo0</td>\n",
              "      <td>해리 포터와 마법사의 돌</td>\n",
              "      <td>boYDGk4</td>\n",
              "      <td>3.0</td>\n",
              "    </tr>\n",
              "    <tr>\n",
              "      <th>1</th>\n",
              "      <td>8nPvyyWmovYo0</td>\n",
              "      <td>파리대왕</td>\n",
              "      <td>bowNK14</td>\n",
              "      <td>3.5</td>\n",
              "    </tr>\n",
              "    <tr>\n",
              "      <th>2</th>\n",
              "      <td>8nPvyyWmovYo0</td>\n",
              "      <td>지금 이 순간</td>\n",
              "      <td>boYOaR9</td>\n",
              "      <td>2.5</td>\n",
              "    </tr>\n",
              "    <tr>\n",
              "      <th>3</th>\n",
              "      <td>8nPvyyWmovYo0</td>\n",
              "      <td>식객</td>\n",
              "      <td>byzGpdW</td>\n",
              "      <td>4.0</td>\n",
              "    </tr>\n",
              "    <tr>\n",
              "      <th>4</th>\n",
              "      <td>8nPvyyWmovYo0</td>\n",
              "      <td>아웃라이어</td>\n",
              "      <td>bolJAN7</td>\n",
              "      <td>3.0</td>\n",
              "    </tr>\n",
              "    <tr>\n",
              "      <th>...</th>\n",
              "      <td>...</td>\n",
              "      <td>...</td>\n",
              "      <td>...</td>\n",
              "      <td>...</td>\n",
              "    </tr>\n",
              "    <tr>\n",
              "      <th>349752</th>\n",
              "      <td>17ovVzDWLvzyn</td>\n",
              "      <td>로빈슨 크루소</td>\n",
              "      <td>boO1nW9</td>\n",
              "      <td>4.0</td>\n",
              "    </tr>\n",
              "    <tr>\n",
              "      <th>349753</th>\n",
              "      <td>17ovVzDWLvzyn</td>\n",
              "      <td>이기는 습관</td>\n",
              "      <td>b4M5NEd</td>\n",
              "      <td>2.0</td>\n",
              "    </tr>\n",
              "    <tr>\n",
              "      <th>349754</th>\n",
              "      <td>17ovVzDWLvzyn</td>\n",
              "      <td>멈추면, 비로소 보이는 것들</td>\n",
              "      <td>byaOv5x</td>\n",
              "      <td>2.5</td>\n",
              "    </tr>\n",
              "    <tr>\n",
              "      <th>349755</th>\n",
              "      <td>17ovVzDWLvzyn</td>\n",
              "      <td>우체부 프레드</td>\n",
              "      <td>bydRVNl</td>\n",
              "      <td>1.0</td>\n",
              "    </tr>\n",
              "    <tr>\n",
              "      <th>349756</th>\n",
              "      <td>17ovVzDWLvzyn</td>\n",
              "      <td>나의 라임 오렌지나무</td>\n",
              "      <td>byzeJko</td>\n",
              "      <td>5.0</td>\n",
              "    </tr>\n",
              "  </tbody>\n",
              "</table>\n",
              "<p>349757 rows × 4 columns</p>\n",
              "</div>"
            ],
            "text/plain": [
              "                 user             book  book_ID rating\n",
              "0       8nPvyyWmovYo0    해리 포터와 마법사의 돌  boYDGk4    3.0\n",
              "1       8nPvyyWmovYo0             파리대왕  bowNK14    3.5\n",
              "2       8nPvyyWmovYo0          지금 이 순간  boYOaR9    2.5\n",
              "3       8nPvyyWmovYo0               식객  byzGpdW    4.0\n",
              "4       8nPvyyWmovYo0            아웃라이어  bolJAN7    3.0\n",
              "...               ...              ...      ...    ...\n",
              "349752  17ovVzDWLvzyn          로빈슨 크루소  boO1nW9    4.0\n",
              "349753  17ovVzDWLvzyn           이기는 습관  b4M5NEd    2.0\n",
              "349754  17ovVzDWLvzyn  멈추면, 비로소 보이는 것들  byaOv5x    2.5\n",
              "349755  17ovVzDWLvzyn          우체부 프레드  bydRVNl    1.0\n",
              "349756  17ovVzDWLvzyn      나의 라임 오렌지나무  byzeJko    5.0\n",
              "\n",
              "[349757 rows x 4 columns]"
            ]
          },
          "execution_count": 990,
          "metadata": {},
          "output_type": "execute_result"
        }
      ],
      "source": [
        "# 책 평점 크롤링\n",
        "book_rating = pd.DataFrame()\n",
        "\n",
        "for ID in tqdm(user_ID):\n",
        "    book_url = 'https://pedia.watcha.com/ko-KR/users/' + ID + '/contents/books/ratings'\n",
        "    driver.get(book_url) # 유저 책 페이지 접속\n",
        "    time.sleep(1)\n",
        "\n",
        "    # 끝까지 스크롤 다운\n",
        "    scroll_location = driver.execute_script('return document.body.scrollHeight')\n",
        "    while True:\n",
        "        driver.execute_script('window.scrollTo(0,document.body.scrollHeight)')\n",
        "        time.sleep(0.5)\n",
        "        scroll_height = driver.execute_script('return document.body.scrollHeight')\n",
        "\n",
        "        if scroll_location == scroll_height:\n",
        "            break\n",
        "        else:\n",
        "            scroll_location = driver.execute_script('return document.body.scrollHeight')\n",
        "\n",
        "    # 소스코드 BeautifulSoup에 입력하기\n",
        "    html = driver.page_source\n",
        "    soup = BeautifulSoup(html, 'lxml')\n",
        "\n",
        "    # 사용자ID, 평점 수집 => 평점을 안매긴 사용자는 패스\n",
        "    div_list = soup.find_all('div', {'class':'css-niy0za'})\n",
        "    div_rating = soup.find_all('div', {'class':'css-m9i0qw'})\n",
        "    book_title = list(map(lambda x: x.text, div_list))\n",
        "    rating = list(map(lambda x:x.text.split('★')[-1], div_rating))\n",
        "\n",
        "#     del_idx = -1\n",
        "\n",
        "#     if None in div_rating:\n",
        "#         del_idx = [i for i,j in enumerate(div_rating) if j == None]\n",
        "#         for idx in del_idx[::-1]:\n",
        "#             del div_rating[idx]\n",
        "\n",
        "#     if del_idx != -1:\n",
        "#         for idx in del_idx[::-1]:\n",
        "#             del div_list[idx]\n",
        "\n",
        "    book_list = list(map(lambda x: soup.find('a', {'title':x}).get('href'), book_title))\n",
        "    book_ID = list(map(lambda x: x.split('/')[-1], book_list))\n",
        "\n",
        "    # 데이터프레임 저장\n",
        "    temp = pd.DataFrame()\n",
        "    temp['book'] = book_title\n",
        "    temp['book_ID'] = book_ID\n",
        "    temp['user'] = ID\n",
        "    temp['rating'] = rating\n",
        "    book_rating = pd.concat([book_rating, temp])\n",
        "    time.sleep(1)\n",
        "\n",
        "book_rating = book_rating[['user','book','book_ID','rating']]\n",
        "book_rating.reset_index(drop=True, inplace=True)\n",
        "book_rating"
      ]
    },
    {
      "cell_type": "code",
      "execution_count": null,
      "id": "12ef1d06",
      "metadata": {
        "id": "12ef1d06"
      },
      "outputs": [],
      "source": [
        "book_ratings = pd.DataFrame()"
      ]
    },
    {
      "cell_type": "code",
      "execution_count": null,
      "id": "aaaafc03",
      "metadata": {
        "id": "aaaafc03"
      },
      "outputs": [],
      "source": [
        "book_ratings = pd.concat([book_ratings, book_rating])\n",
        "book_ratings.reset_index(drop=True, inplace=True)"
      ]
    },
    {
      "cell_type": "code",
      "execution_count": null,
      "id": "34763e7b",
      "metadata": {
        "id": "34763e7b",
        "outputId": "f8999950-6c12-46be-af30-ac7c7942d422"
      },
      "outputs": [
        {
          "data": {
            "text/html": [
              "<div>\n",
              "<style scoped>\n",
              "    .dataframe tbody tr th:only-of-type {\n",
              "        vertical-align: middle;\n",
              "    }\n",
              "\n",
              "    .dataframe tbody tr th {\n",
              "        vertical-align: top;\n",
              "    }\n",
              "\n",
              "    .dataframe thead th {\n",
              "        text-align: right;\n",
              "    }\n",
              "</style>\n",
              "<table border=\"1\" class=\"dataframe\">\n",
              "  <thead>\n",
              "    <tr style=\"text-align: right;\">\n",
              "      <th></th>\n",
              "      <th>user</th>\n",
              "      <th>book</th>\n",
              "      <th>book_ID</th>\n",
              "      <th>rating</th>\n",
              "    </tr>\n",
              "  </thead>\n",
              "  <tbody>\n",
              "    <tr>\n",
              "      <th>0</th>\n",
              "      <td>8nPvyyWmovYo0</td>\n",
              "      <td>해리 포터와 마법사의 돌</td>\n",
              "      <td>boYDGk4</td>\n",
              "      <td>3.0</td>\n",
              "    </tr>\n",
              "    <tr>\n",
              "      <th>1</th>\n",
              "      <td>8nPvyyWmovYo0</td>\n",
              "      <td>파리대왕</td>\n",
              "      <td>bowNK14</td>\n",
              "      <td>3.5</td>\n",
              "    </tr>\n",
              "    <tr>\n",
              "      <th>2</th>\n",
              "      <td>8nPvyyWmovYo0</td>\n",
              "      <td>지금 이 순간</td>\n",
              "      <td>boYOaR9</td>\n",
              "      <td>2.5</td>\n",
              "    </tr>\n",
              "    <tr>\n",
              "      <th>3</th>\n",
              "      <td>8nPvyyWmovYo0</td>\n",
              "      <td>식객</td>\n",
              "      <td>byzGpdW</td>\n",
              "      <td>4.0</td>\n",
              "    </tr>\n",
              "    <tr>\n",
              "      <th>4</th>\n",
              "      <td>8nPvyyWmovYo0</td>\n",
              "      <td>아웃라이어</td>\n",
              "      <td>bolJAN7</td>\n",
              "      <td>3.0</td>\n",
              "    </tr>\n",
              "    <tr>\n",
              "      <th>...</th>\n",
              "      <td>...</td>\n",
              "      <td>...</td>\n",
              "      <td>...</td>\n",
              "      <td>...</td>\n",
              "    </tr>\n",
              "    <tr>\n",
              "      <th>349752</th>\n",
              "      <td>17ovVzDWLvzyn</td>\n",
              "      <td>로빈슨 크루소</td>\n",
              "      <td>boO1nW9</td>\n",
              "      <td>4.0</td>\n",
              "    </tr>\n",
              "    <tr>\n",
              "      <th>349753</th>\n",
              "      <td>17ovVzDWLvzyn</td>\n",
              "      <td>이기는 습관</td>\n",
              "      <td>b4M5NEd</td>\n",
              "      <td>2.0</td>\n",
              "    </tr>\n",
              "    <tr>\n",
              "      <th>349754</th>\n",
              "      <td>17ovVzDWLvzyn</td>\n",
              "      <td>멈추면, 비로소 보이는 것들</td>\n",
              "      <td>byaOv5x</td>\n",
              "      <td>2.5</td>\n",
              "    </tr>\n",
              "    <tr>\n",
              "      <th>349755</th>\n",
              "      <td>17ovVzDWLvzyn</td>\n",
              "      <td>우체부 프레드</td>\n",
              "      <td>bydRVNl</td>\n",
              "      <td>1.0</td>\n",
              "    </tr>\n",
              "    <tr>\n",
              "      <th>349756</th>\n",
              "      <td>17ovVzDWLvzyn</td>\n",
              "      <td>나의 라임 오렌지나무</td>\n",
              "      <td>byzeJko</td>\n",
              "      <td>5.0</td>\n",
              "    </tr>\n",
              "  </tbody>\n",
              "</table>\n",
              "<p>349757 rows × 4 columns</p>\n",
              "</div>"
            ],
            "text/plain": [
              "                 user             book  book_ID rating\n",
              "0       8nPvyyWmovYo0    해리 포터와 마법사의 돌  boYDGk4    3.0\n",
              "1       8nPvyyWmovYo0             파리대왕  bowNK14    3.5\n",
              "2       8nPvyyWmovYo0          지금 이 순간  boYOaR9    2.5\n",
              "3       8nPvyyWmovYo0               식객  byzGpdW    4.0\n",
              "4       8nPvyyWmovYo0            아웃라이어  bolJAN7    3.0\n",
              "...               ...              ...      ...    ...\n",
              "349752  17ovVzDWLvzyn          로빈슨 크루소  boO1nW9    4.0\n",
              "349753  17ovVzDWLvzyn           이기는 습관  b4M5NEd    2.0\n",
              "349754  17ovVzDWLvzyn  멈추면, 비로소 보이는 것들  byaOv5x    2.5\n",
              "349755  17ovVzDWLvzyn          우체부 프레드  bydRVNl    1.0\n",
              "349756  17ovVzDWLvzyn      나의 라임 오렌지나무  byzeJko    5.0\n",
              "\n",
              "[349757 rows x 4 columns]"
            ]
          },
          "execution_count": 996,
          "metadata": {},
          "output_type": "execute_result"
        }
      ],
      "source": [
        "book_ratings"
      ]
    },
    {
      "cell_type": "code",
      "execution_count": null,
      "id": "431cadac",
      "metadata": {
        "id": "431cadac"
      },
      "outputs": [],
      "source": [
        "book_ratings.to_csv('왓챠피디아 책 평점.csv', index=False)"
      ]
    },
    {
      "cell_type": "code",
      "execution_count": null,
      "id": "7d8eafce",
      "metadata": {
        "id": "7d8eafce"
      },
      "outputs": [],
      "source": []
    }
  ],
  "metadata": {
    "kernelspec": {
      "display_name": "Python 3 (ipykernel)",
      "language": "python",
      "name": "python3"
    },
    "language_info": {
      "codemirror_mode": {
        "name": "ipython",
        "version": 3
      },
      "file_extension": ".py",
      "mimetype": "text/x-python",
      "name": "python",
      "nbconvert_exporter": "python",
      "pygments_lexer": "ipython3",
      "version": "3.9.12"
    },
    "colab": {
      "provenance": []
    }
  },
  "nbformat": 4,
  "nbformat_minor": 5
}
