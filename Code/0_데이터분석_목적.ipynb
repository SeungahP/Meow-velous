{
  "cells": [
    {
      "cell_type": "code",
      "execution_count": null,
      "id": "71e4a6e5",
      "metadata": {
        "id": "71e4a6e5"
      },
      "outputs": [],
      "source": [
        "import pandas as pd\n",
        "import matplotlib.pyplot as plt\n",
        "import numpy as np"
      ]
    },
    {
      "cell_type": "markdown",
      "id": "d47b01fd",
      "metadata": {
        "id": "d47b01fd"
      },
      "source": [
        "### 국민 여가활동"
      ]
    },
    {
      "cell_type": "code",
      "execution_count": null,
      "id": "527e907c",
      "metadata": {
        "id": "527e907c"
      },
      "outputs": [],
      "source": [
        "KC_2021 = pd.read_csv('KC_MRFN_LSR_ACT_SURVEY_INFO_2021.csv')\n",
        "KC_2022 = pd.read_csv('KC_MRFN_LSR_ACT_SURVEY_INFO_2022.csv')"
      ]
    },
    {
      "cell_type": "code",
      "execution_count": null,
      "id": "8700a646",
      "metadata": {
        "id": "8700a646"
      },
      "outputs": [],
      "source": [
        "col_name = KC_2021.columns"
      ]
    },
    {
      "cell_type": "code",
      "execution_count": null,
      "id": "b5fa1113",
      "metadata": {
        "id": "b5fa1113",
        "outputId": "778edee0-0284-4aac-8761-2d6d425b5968"
      },
      "outputs": [
        {
          "data": {
            "text/plain": [
              "61"
            ]
          },
          "execution_count": 4,
          "metadata": {},
          "output_type": "execute_result"
        }
      ],
      "source": [
        "len(col_name)"
      ]
    },
    {
      "cell_type": "code",
      "execution_count": null,
      "id": "ffad1b54",
      "metadata": {
        "id": "ffad1b54"
      },
      "outputs": [],
      "source": [
        "KC_col = ['TV시청','인터넷활동','연락활동','산책활동','게임활동','운동','음악듣기','반려동물활동','스포츠간접관람','독서활동',\n",
        "          '쇼핑외식','낮잠','만화독서','등산활동','라디오듣기','신문잡지독서','목욕활동','골프활동','활동X','언어기술자격증취득활동',\n",
        "          '영화관람','사이버스포츠관람','미술활동','도박복권구매','당구장활동','자전거활동','홈페이지주소','생활공예활동','사진촬영','동호회그룹',\n",
        "          '자연명소관람','스포츠관람활동','전시관람','낚시활동','수집활동','노래방방문','필기독서토론활동','사회봉사활동','미용활동',\n",
        "          '가족지인방문','전통예술학습활동','문화유적방문','테마파크방문','기타레저활동','박물관관람','국내캠핑활동','지역축제참가','그룹활동','전통예술공연관람','여행배탑승',\n",
        "         '해외여행','문학행사참여']"
      ]
    },
    {
      "cell_type": "code",
      "execution_count": null,
      "id": "f49b9c0e",
      "metadata": {
        "scrolled": false,
        "id": "f49b9c0e"
      },
      "outputs": [],
      "source": [
        "KC_2021_indi = KC_2021.iloc[:,9:].fillna(0)\n",
        "KC_2022_indi = KC_2022.iloc[:,9:].fillna(0)\n",
        "KC_2021_indi.columns = KC_col\n",
        "KC_2022_indi.columns = KC_col"
      ]
    },
    {
      "cell_type": "code",
      "execution_count": null,
      "id": "3cd9b7e8",
      "metadata": {
        "id": "3cd9b7e8"
      },
      "outputs": [],
      "source": [
        "KC_2021_indi = KC_2021_indi.mean().to_frame().T\n",
        "KC_2021_indi.index = [2021]\n",
        "KC_2022_indi = KC_2022_indi.mean().sort_values(ascending=False).to_frame().T\n",
        "KC_2022_indi.index = [2022]"
      ]
    },
    {
      "cell_type": "code",
      "execution_count": null,
      "id": "165396b3",
      "metadata": {
        "id": "165396b3"
      },
      "outputs": [],
      "source": [
        "idx = list(KC_2022_indi.columns)\n",
        "KC_2021_indi = KC_2021_indi[idx]"
      ]
    },
    {
      "cell_type": "code",
      "execution_count": null,
      "id": "e26abda2",
      "metadata": {
        "id": "e26abda2",
        "outputId": "ba17072b-10e3-4553-fd8d-f62005628a9a"
      },
      "outputs": [
        {
          "data": {
            "text/html": [
              "<div>\n",
              "<style scoped>\n",
              "    .dataframe tbody tr th:only-of-type {\n",
              "        vertical-align: middle;\n",
              "    }\n",
              "\n",
              "    .dataframe tbody tr th {\n",
              "        vertical-align: top;\n",
              "    }\n",
              "\n",
              "    .dataframe thead th {\n",
              "        text-align: right;\n",
              "    }\n",
              "</style>\n",
              "<table border=\"1\" class=\"dataframe\">\n",
              "  <thead>\n",
              "    <tr style=\"text-align: right;\">\n",
              "      <th></th>\n",
              "      <th>TV시청</th>\n",
              "      <th>쇼핑외식</th>\n",
              "      <th>산책활동</th>\n",
              "      <th>연락활동</th>\n",
              "      <th>가족지인방문</th>\n",
              "      <th>낮잠</th>\n",
              "      <th>음악듣기</th>\n",
              "      <th>미용활동</th>\n",
              "      <th>인터넷활동</th>\n",
              "      <th>목욕활동</th>\n",
              "      <th>...</th>\n",
              "      <th>생활공예활동</th>\n",
              "      <th>여행배탑승</th>\n",
              "      <th>홈페이지주소</th>\n",
              "      <th>기타레저활동</th>\n",
              "      <th>해외여행</th>\n",
              "      <th>전통예술공연관람</th>\n",
              "      <th>문학행사참여</th>\n",
              "      <th>필기독서토론활동</th>\n",
              "      <th>수집활동</th>\n",
              "      <th>전통예술학습활동</th>\n",
              "    </tr>\n",
              "  </thead>\n",
              "  <tbody>\n",
              "    <tr>\n",
              "      <th>2021</th>\n",
              "      <td>95.376471</td>\n",
              "      <td>87.070588</td>\n",
              "      <td>83.605882</td>\n",
              "      <td>86.994118</td>\n",
              "      <td>77.635294</td>\n",
              "      <td>65.894118</td>\n",
              "      <td>52.641176</td>\n",
              "      <td>52.864706</td>\n",
              "      <td>67.417647</td>\n",
              "      <td>46.252941</td>\n",
              "      <td>...</td>\n",
              "      <td>3.288235</td>\n",
              "      <td>1.364706</td>\n",
              "      <td>3.094118</td>\n",
              "      <td>6.082353</td>\n",
              "      <td>6.164706</td>\n",
              "      <td>0.717647</td>\n",
              "      <td>0.505882</td>\n",
              "      <td>1.194118</td>\n",
              "      <td>1.364706</td>\n",
              "      <td>0.300000</td>\n",
              "    </tr>\n",
              "    <tr>\n",
              "      <th>2022</th>\n",
              "      <td>91.117647</td>\n",
              "      <td>81.064706</td>\n",
              "      <td>80.335294</td>\n",
              "      <td>79.282353</td>\n",
              "      <td>68.958824</td>\n",
              "      <td>61.952941</td>\n",
              "      <td>53.035294</td>\n",
              "      <td>52.517647</td>\n",
              "      <td>51.705882</td>\n",
              "      <td>48.882353</td>\n",
              "      <td>...</td>\n",
              "      <td>3.611765</td>\n",
              "      <td>3.494118</td>\n",
              "      <td>3.405882</td>\n",
              "      <td>3.058824</td>\n",
              "      <td>2.047059</td>\n",
              "      <td>1.823529</td>\n",
              "      <td>1.782353</td>\n",
              "      <td>1.588235</td>\n",
              "      <td>1.441176</td>\n",
              "      <td>0.547059</td>\n",
              "    </tr>\n",
              "  </tbody>\n",
              "</table>\n",
              "<p>2 rows × 52 columns</p>\n",
              "</div>"
            ],
            "text/plain": [
              "           TV시청       쇼핑외식       산책활동       연락활동     가족지인방문         낮잠  \\\n",
              "2021  95.376471  87.070588  83.605882  86.994118  77.635294  65.894118   \n",
              "2022  91.117647  81.064706  80.335294  79.282353  68.958824  61.952941   \n",
              "\n",
              "           음악듣기       미용활동      인터넷활동       목욕활동  ...    생활공예활동     여행배탑승  \\\n",
              "2021  52.641176  52.864706  67.417647  46.252941  ...  3.288235  1.364706   \n",
              "2022  53.035294  52.517647  51.705882  48.882353  ...  3.611765  3.494118   \n",
              "\n",
              "        홈페이지주소    기타레저활동      해외여행  전통예술공연관람    문학행사참여  필기독서토론활동      수집활동  \\\n",
              "2021  3.094118  6.082353  6.164706  0.717647  0.505882  1.194118  1.364706   \n",
              "2022  3.405882  3.058824  2.047059  1.823529  1.782353  1.588235  1.441176   \n",
              "\n",
              "      전통예술학습활동  \n",
              "2021  0.300000  \n",
              "2022  0.547059  \n",
              "\n",
              "[2 rows x 52 columns]"
            ]
          },
          "execution_count": 9,
          "metadata": {},
          "output_type": "execute_result"
        }
      ],
      "source": [
        "KC_2122 = pd.concat([KC_2021_indi, KC_2022_indi])\n",
        "KC_2122"
      ]
    },
    {
      "cell_type": "code",
      "execution_count": null,
      "id": "7c506f0b",
      "metadata": {
        "id": "7c506f0b",
        "outputId": "2c2c5a4e-49ea-403b-c420-621fe0314d31"
      },
      "outputs": [
        {
          "data": {
            "text/html": [
              "<div>\n",
              "<style scoped>\n",
              "    .dataframe tbody tr th:only-of-type {\n",
              "        vertical-align: middle;\n",
              "    }\n",
              "\n",
              "    .dataframe tbody tr th {\n",
              "        vertical-align: top;\n",
              "    }\n",
              "\n",
              "    .dataframe thead th {\n",
              "        text-align: right;\n",
              "    }\n",
              "</style>\n",
              "<table border=\"1\" class=\"dataframe\">\n",
              "  <thead>\n",
              "    <tr style=\"text-align: right;\">\n",
              "      <th></th>\n",
              "      <th>TV시청</th>\n",
              "      <th>쇼핑외식</th>\n",
              "      <th>산책활동</th>\n",
              "      <th>연락활동</th>\n",
              "      <th>가족지인방문</th>\n",
              "      <th>낮잠</th>\n",
              "      <th>음악듣기</th>\n",
              "      <th>미용활동</th>\n",
              "      <th>인터넷활동</th>\n",
              "      <th>목욕활동</th>\n",
              "      <th>...</th>\n",
              "      <th>문화유적방문</th>\n",
              "      <th>테마파크방문</th>\n",
              "      <th>독서활동</th>\n",
              "      <th>노래방방문</th>\n",
              "      <th>라디오듣기</th>\n",
              "      <th>국내캠핑활동</th>\n",
              "      <th>만화독서</th>\n",
              "      <th>반려동물활동</th>\n",
              "      <th>운동</th>\n",
              "      <th>신문잡지독서</th>\n",
              "    </tr>\n",
              "  </thead>\n",
              "  <tbody>\n",
              "    <tr>\n",
              "      <th>2021</th>\n",
              "      <td>95.376471</td>\n",
              "      <td>87.070588</td>\n",
              "      <td>83.605882</td>\n",
              "      <td>86.994118</td>\n",
              "      <td>77.635294</td>\n",
              "      <td>65.894118</td>\n",
              "      <td>52.641176</td>\n",
              "      <td>52.864706</td>\n",
              "      <td>67.417647</td>\n",
              "      <td>46.252941</td>\n",
              "      <td>...</td>\n",
              "      <td>24.123529</td>\n",
              "      <td>10.417647</td>\n",
              "      <td>20.629412</td>\n",
              "      <td>11.276471</td>\n",
              "      <td>21.235294</td>\n",
              "      <td>19.652941</td>\n",
              "      <td>13.882353</td>\n",
              "      <td>11.435294</td>\n",
              "      <td>13.129412</td>\n",
              "      <td>10.400000</td>\n",
              "    </tr>\n",
              "    <tr>\n",
              "      <th>2022</th>\n",
              "      <td>91.117647</td>\n",
              "      <td>81.064706</td>\n",
              "      <td>80.335294</td>\n",
              "      <td>79.282353</td>\n",
              "      <td>68.958824</td>\n",
              "      <td>61.952941</td>\n",
              "      <td>53.035294</td>\n",
              "      <td>52.517647</td>\n",
              "      <td>51.705882</td>\n",
              "      <td>48.882353</td>\n",
              "      <td>...</td>\n",
              "      <td>26.611765</td>\n",
              "      <td>20.635294</td>\n",
              "      <td>20.411765</td>\n",
              "      <td>20.229412</td>\n",
              "      <td>20.188235</td>\n",
              "      <td>18.311765</td>\n",
              "      <td>16.364706</td>\n",
              "      <td>13.735294</td>\n",
              "      <td>13.305882</td>\n",
              "      <td>12.676471</td>\n",
              "    </tr>\n",
              "  </tbody>\n",
              "</table>\n",
              "<p>2 rows × 27 columns</p>\n",
              "</div>"
            ],
            "text/plain": [
              "           TV시청       쇼핑외식       산책활동       연락활동     가족지인방문         낮잠  \\\n",
              "2021  95.376471  87.070588  83.605882  86.994118  77.635294  65.894118   \n",
              "2022  91.117647  81.064706  80.335294  79.282353  68.958824  61.952941   \n",
              "\n",
              "           음악듣기       미용활동      인터넷활동       목욕활동  ...     문화유적방문     테마파크방문  \\\n",
              "2021  52.641176  52.864706  67.417647  46.252941  ...  24.123529  10.417647   \n",
              "2022  53.035294  52.517647  51.705882  48.882353  ...  26.611765  20.635294   \n",
              "\n",
              "           독서활동      노래방방문      라디오듣기     국내캠핑활동       만화독서     반려동물활동  \\\n",
              "2021  20.629412  11.276471  21.235294  19.652941  13.882353  11.435294   \n",
              "2022  20.411765  20.229412  20.188235  18.311765  16.364706  13.735294   \n",
              "\n",
              "             운동     신문잡지독서  \n",
              "2021  13.129412  10.400000  \n",
              "2022  13.305882  12.676471  \n",
              "\n",
              "[2 rows x 27 columns]"
            ]
          },
          "execution_count": 10,
          "metadata": {},
          "output_type": "execute_result"
        }
      ],
      "source": [
        "KC_2122 = KC_2122[KC_2122>10].dropna(axis=1)\n",
        "KC_2122"
      ]
    },
    {
      "cell_type": "code",
      "execution_count": null,
      "id": "32ce1c30",
      "metadata": {
        "id": "32ce1c30",
        "outputId": "ed462b25-d1ad-4071-d4ee-d93e7fd6f7a5"
      },
      "outputs": [
        {
          "name": "stderr",
          "output_type": "stream",
          "text": [
            "C:\\Users\\Public\\Documents\\ESTsoft\\CreatorTemp\\ipykernel_3024\\1969752946.py:3: MatplotlibDeprecationWarning: \n",
            "The get_fontconfig_fonts function was deprecated in Matplotlib 3.5 and will be removed two minor releases later.\n",
            "  fm.get_fontconfig_fonts()\n"
          ]
        }
      ],
      "source": [
        "import matplotlib\n",
        "import matplotlib.font_manager as fm\n",
        "fm.get_fontconfig_fonts()\n",
        "font_location = 'C:/Windows/Fonts/Hancom Gothic Regular.ttf'\n",
        "font_name = fm.FontProperties(fname=font_location).get_name()\n",
        "matplotlib.rc('font', family=font_name)"
      ]
    },
    {
      "cell_type": "code",
      "execution_count": null,
      "id": "70c8cc5d",
      "metadata": {
        "id": "70c8cc5d",
        "outputId": "de2ed053-680f-4dea-f8c5-356b83fadd9c"
      },
      "outputs": [
        {
          "data": {
            "image/png": "[encoded data removed]",
            "text/plain": [
              "<Figure size 864x576 with 1 Axes>"
            ]
          },
          "metadata": {
            "needs_background": "light"
          },
          "output_type": "display_data"
        }
      ],
      "source": [
        "fig, ax = plt.subplots(figsize=(12,8))\n",
        "bar_width=0.3\n",
        "\n",
        "index = np.arange(27)\n",
        "\n",
        "b1 = plt.bar(index, KC_2122.loc[2021], bar_width, alpha=1, label='2021', color='pink')\n",
        "b2 = plt.bar(index+bar_width, KC_2122.loc[2022], bar_width, alpha=1, label='2022', color='skyblue')\n",
        "\n",
        "plt.xticks(np.arange(bar_width, 27+bar_width, 1), KC_2122.columns, rotation=90)\n",
        "plt.title('국민여가활동 현황',fontsize=15)\n",
        "plt.ylabel('활동 수',fontsize=13)\n",
        "plt.xlabel('여가활동',fontsize=13)\n",
        "plt.legend()\n",
        "plt.show()"
      ]
    },
    {
      "cell_type": "code",
      "execution_count": null,
      "id": "ee9d0c02",
      "metadata": {
        "id": "ee9d0c02"
      },
      "outputs": [],
      "source": []
    }
  ],
  "metadata": {
    "kernelspec": {
      "display_name": "Python 3 (ipykernel)",
      "language": "python",
      "name": "python3"
    },
    "language_info": {
      "codemirror_mode": {
        "name": "ipython",
        "version": 3
      },
      "file_extension": ".py",
      "mimetype": "text/x-python",
      "name": "python",
      "nbconvert_exporter": "python",
      "pygments_lexer": "ipython3",
      "version": "3.9.12"
    },
    "colab": {
      "provenance": []
    }
  },
  "nbformat": 4,
  "nbformat_minor": 5
}